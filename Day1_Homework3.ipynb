{
  "nbformat": 4,
  "nbformat_minor": 0,
  "metadata": {
    "colab": {
      "provenance": [],
      "authorship_tag": "ABX9TyOr6Cm3Gc0BEP4MvBbF9cN8",
      "include_colab_link": true
    },
    "kernelspec": {
      "name": "python3",
      "display_name": "Python 3"
    },
    "language_info": {
      "name": "python"
    }
  },
  "cells": [
    {
      "cell_type": "markdown",
      "metadata": {
        "id": "view-in-github",
        "colab_type": "text"
      },
      "source": [
        "<a href=\"https://colab.research.google.com/github/yonguncho/pythonclass/blob/main/Day1_Homework3.ipynb\" target=\"_parent\"><img src=\"https://colab.research.google.com/assets/colab-badge.svg\" alt=\"Open In Colab\"/></a>"
      ]
    },
    {
      "cell_type": "code",
      "execution_count": null,
      "metadata": {
        "colab": {
          "base_uri": "https://localhost:8080/"
        },
        "id": "s4ZPAY9RaszL",
        "outputId": "6b3ebdcb-b8f3-4ea9-fc74-377cc0383946"
      },
      "outputs": [
        {
          "output_type": "stream",
          "name": "stdout",
          "text": [
            "['닥터 스트레인지', '스플릿', '럭키']\n"
          ]
        }
      ],
      "source": [
        "#051 리스트 생성\n",
        "#2016년 11월 영화 예매 순위 기준 top3는 다음과 같습니다.\n",
        "#영화 제목을 movie_rank 이름의 리스트에 저장해보세요. (순위 저장 정보는 저장하지 않습니다)\n",
        "\n",
        "movie_rank = [\"닥터 스트레인지\", \"스플릿\", \"럭키\"]\n",
        "print(movie_rank)"
      ]
    },
    {
      "cell_type": "code",
      "source": [
        "#052 리스트에 원소 추가\n",
        "#051의 movie_rank 리스트에 \"배트맨\"을 추가하라\n",
        "\n",
        "movie_rank = [\"닥터 스트레인지\", \"스플릿\", \"럭키\"]\n",
        "movie_rank.append(\"배트맨\")\n",
        "print(movie_rank)"
      ],
      "metadata": {
        "colab": {
          "base_uri": "https://localhost:8080/"
        },
        "id": "KWHBViDfe_t1",
        "outputId": "df610f27-c738-4c26-f050-b39ba4160abe"
      },
      "execution_count": null,
      "outputs": [
        {
          "output_type": "stream",
          "name": "stdout",
          "text": [
            "['닥터 스트레인지', '스플릿', '럭키', '배트맨']\n"
          ]
        }
      ]
    },
    {
      "cell_type": "code",
      "source": [
        "#053 movie_rank 리스트에는 아래와 같이 네 개의 영화 제목이 바인딩 되어 있다.\n",
        "# \"슈퍼맨\"을 \"닥터 스트레인지\"와 \"스클릿\" 사이에 추가하라\n",
        "\n",
        "movie_rank = [\"닥터 스트레인지\", \"스플릿\", \"럭키\", \"배트맨\"]\n",
        "movie_rank.insert(1, \"슈퍼맨\")\n",
        "print(movie_rank)"
      ],
      "metadata": {
        "colab": {
          "base_uri": "https://localhost:8080/"
        },
        "id": "mIzY7C_FfbYI",
        "outputId": "b5344dc9-3fbb-4170-8f3c-5fc73df405d2"
      },
      "execution_count": null,
      "outputs": [
        {
          "output_type": "stream",
          "name": "stdout",
          "text": [
            "['닥터 스트레인지', '슈퍼맨', '스플릿', '럭키', '배트맨']\n"
          ]
        }
      ]
    },
    {
      "cell_type": "code",
      "source": [
        "#054 move_rank 리스트에서 '럭키'를 삭제하라\n",
        "\n",
        "movie_rank = [\"닥터 스트레인지\", \"스플릿\", \"럭키\", \"배트맨\"]\n",
        "del movie_rank[2]\n",
        "print(movie_rank)"
      ],
      "metadata": {
        "colab": {
          "base_uri": "https://localhost:8080/"
        },
        "id": "kDieFVsRgxGV",
        "outputId": "ebebca67-809a-4e0c-c52d-eea1b7aff9d5"
      },
      "execution_count": null,
      "outputs": [
        {
          "output_type": "stream",
          "name": "stdout",
          "text": [
            "['닥터 스트레인지', '스플릿', '배트맨']\n"
          ]
        }
      ]
    },
    {
      "cell_type": "code",
      "source": [
        "#055 movie_rank 리스트에서 '스플릿'과 '배트맨'을 삭제하라\n",
        "\n",
        "movie_rank = [\"닥터 스트레인지\", \"스플릿\", \"럭키\", \"배트맨\"]\n",
        "del movie_rank[1]\n",
        "#print(movie_rank)\n",
        "del movie_rank[2]\n",
        "print(movie_rank)"
      ],
      "metadata": {
        "colab": {
          "base_uri": "https://localhost:8080/"
        },
        "id": "pPyYhT8thAud",
        "outputId": "427f2484-296f-427f-e226-cf54758d5400"
      },
      "execution_count": null,
      "outputs": [
        {
          "output_type": "stream",
          "name": "stdout",
          "text": [
            "['닥터 스트레인지', '럭키']\n"
          ]
        }
      ]
    },
    {
      "cell_type": "code",
      "source": [
        "#056 lang1과 lang2 리스트가 있을 때 lang1과 lang2의 원소를 모두 갖고 있는 langs 리스트를 만들어라\n",
        "\n",
        "lang1 = [\"C\", \"C++\", \"JAVA\"]\n",
        "lang2 = [\"python\", \"go\", \"C#\"]\n",
        "#print([lang1]+[lang2]) ##두 리스트를 합친 것으로 중간에 콤마가 들어간다\n",
        "\n",
        "langs = lang1+lang2\n",
        "print(langs)"
      ],
      "metadata": {
        "colab": {
          "base_uri": "https://localhost:8080/"
        },
        "id": "siXqlYxbhovh",
        "outputId": "68d6d655-4ab0-4410-da3f-a172119d396a"
      },
      "execution_count": null,
      "outputs": [
        {
          "output_type": "stream",
          "name": "stdout",
          "text": [
            "['C', 'C++', 'JAVA', 'python', 'go', 'C#']\n"
          ]
        }
      ]
    },
    {
      "cell_type": "code",
      "source": [
        "#057 다음 리스트에서 최댓값과 최솟값을 출력하라 (힌트: min(), max() 함수 사용)\n",
        "\n",
        "nums = [1,2,3,4,5,6,7]\n",
        "max_value = max(nums)\n",
        "min_value = min(nums)\n",
        "print(\"max:\", max_value, \"min:\", min_value)"
      ],
      "metadata": {
        "colab": {
          "base_uri": "https://localhost:8080/"
        },
        "id": "Pv_m4hZ_iP1r",
        "outputId": "93c73497-c725-474f-8423-0998567a5998"
      },
      "execution_count": null,
      "outputs": [
        {
          "output_type": "stream",
          "name": "stdout",
          "text": [
            "max: 7 min: 1\n"
          ]
        }
      ]
    },
    {
      "cell_type": "code",
      "source": [
        "#058 다음 리스트의 합을 출력하라 (sum 함수 사용)\n",
        "\n",
        "nums = [1,2,3,4,5]\n",
        "\n",
        "result = sum(nums)\n",
        "print(result)"
      ],
      "metadata": {
        "colab": {
          "base_uri": "https://localhost:8080/"
        },
        "id": "QPCsfxWmi2T-",
        "outputId": "99ea384c-0229-4660-9ac2-db8dc393c049"
      },
      "execution_count": null,
      "outputs": [
        {
          "output_type": "stream",
          "name": "stdout",
          "text": [
            "15\n"
          ]
        }
      ]
    },
    {
      "cell_type": "code",
      "source": [
        "#059 다음 리스트에 저장된 데이터의 개수를 화면에 구하라 (len 함수 사용)\n",
        "\n",
        "cook = [\"피자\", \"김밥\", \"만두\", \"양념치킨\", \"족발\", \"피자\", \"김치만두\", \"쫄면\", \"라면\", \"팥빙수\", \"김치전\"]\n",
        "\n",
        "result = len(cook)\n",
        "print(result)"
      ],
      "metadata": {
        "colab": {
          "base_uri": "https://localhost:8080/"
        },
        "id": "1MfXvwv-jIFW",
        "outputId": "a74c11d7-2a56-4c5a-f941-5cdbd755c033"
      },
      "execution_count": null,
      "outputs": [
        {
          "output_type": "stream",
          "name": "stdout",
          "text": [
            "11\n"
          ]
        }
      ]
    },
    {
      "cell_type": "code",
      "source": [
        "#060 다음 리스트의 평균을 출력하라\n",
        "\n",
        "nums = [1,2,3,4,5]\n",
        "\n",
        "result = sum(nums) / len(nums)\n",
        "print(result)"
      ],
      "metadata": {
        "colab": {
          "base_uri": "https://localhost:8080/"
        },
        "id": "E_FXd-_CjcKj",
        "outputId": "f9336320-db14-49fd-8794-73c3d854f3a9"
      },
      "execution_count": null,
      "outputs": [
        {
          "output_type": "stream",
          "name": "stdout",
          "text": [
            "3.0\n"
          ]
        }
      ]
    },
    {
      "cell_type": "code",
      "source": [
        "#061 price 변수에는 날짜와 종가 정보가 저장되어 있다. 날짜 정보를 제외하고 가격 정보만 출력하라.( 힌트:슬라이싱)\n",
        "\n",
        "price = ['20180728', 100, 130, 140, 150, 160, 170]\n",
        "\n",
        "print(price[1:])"
      ],
      "metadata": {
        "colab": {
          "base_uri": "https://localhost:8080/"
        },
        "id": "GiXCG8MtjzOs",
        "outputId": "a2b10d35-4eb6-4002-d622-a5f1f4eed2c1"
      },
      "execution_count": null,
      "outputs": [
        {
          "output_type": "stream",
          "name": "stdout",
          "text": [
            "[100, 130, 140, 150, 160, 170]\n"
          ]
        }
      ]
    },
    {
      "cell_type": "code",
      "source": [
        "#062 슬라이싱을 사용해서 홀수만 출력하라.\n",
        "\n",
        "nums = [1,2,3,4,5,6,7,8,9,10]\n",
        "\n",
        "print(nums[::2])"
      ],
      "metadata": {
        "colab": {
          "base_uri": "https://localhost:8080/"
        },
        "id": "d22DB9OulUVn",
        "outputId": "3ba5b766-1701-42f3-f1f6-6499f5b487aa"
      },
      "execution_count": null,
      "outputs": [
        {
          "output_type": "stream",
          "name": "stdout",
          "text": [
            "[1, 3, 5, 7, 9]\n"
          ]
        }
      ]
    },
    {
      "cell_type": "code",
      "source": [
        "#063 슬라이싱을 사용해서 짝수만 출력하라\n",
        "\n",
        "nums = [1,2,3,4,5,6,7,8,9,10]\n",
        "\n",
        "print(nums[1::2])"
      ],
      "metadata": {
        "colab": {
          "base_uri": "https://localhost:8080/"
        },
        "id": "77LyVSkalei5",
        "outputId": "901dc01f-123c-46d2-9641-5caa1373566f"
      },
      "execution_count": null,
      "outputs": [
        {
          "output_type": "stream",
          "name": "stdout",
          "text": [
            "[2, 4, 6, 8, 10]\n"
          ]
        }
      ]
    },
    {
      "cell_type": "code",
      "source": [
        "#064 슬라이싱을 사용해서 리스트의 숫자를 역 방향으로 출력하라\n",
        "\n",
        "nums = [1,2,3,4,5,6,7,8,9,10]\n",
        "print(nums[::-1])"
      ],
      "metadata": {
        "colab": {
          "base_uri": "https://localhost:8080/"
        },
        "id": "TXKkuMbxlurY",
        "outputId": "82c1ee8e-b9a1-4194-c695-1138c828be34"
      },
      "execution_count": null,
      "outputs": [
        {
          "output_type": "stream",
          "name": "stdout",
          "text": [
            "[10, 9, 8, 7, 6, 5, 4, 3, 2, 1]\n"
          ]
        }
      ]
    },
    {
      "cell_type": "code",
      "source": [
        "#065 interest 리스트에는 아래의 데이터가 바인딩 되어 있다\n",
        "\n",
        "interest = ['삼성전자', 'LG전자', 'Naver']\n",
        "#interest 리스트를 사용하여 아래와 같이 화면에 출력하라.\n",
        "#출력 예시:\n",
        "#삼성전자 Naver\n",
        "\n",
        "print(interest[0], interest[2])\n",
        "\n",
        "#del interest[1] 또는 'LG전자'만 삭제하고 출력해도 된다\n",
        "#print(interest)"
      ],
      "metadata": {
        "colab": {
          "base_uri": "https://localhost:8080/"
        },
        "id": "NoV2tj9Ml2sO",
        "outputId": "d62bdff2-b71c-415e-c018-a62662bdc343"
      },
      "execution_count": null,
      "outputs": [
        {
          "output_type": "stream",
          "name": "stdout",
          "text": [
            "삼성전자 Naver\n"
          ]
        }
      ]
    },
    {
      "cell_type": "code",
      "source": [
        "#066 JOIN 메서드 \n",
        "\n",
        "#join 메서드는 \"구분자.join(리스트)\"로 리스트에 있는 요소 하나하나를 합쳐서 하나의 문자열로 바꾸어 변환하는 함수이다\n",
        "\n",
        "#interest 리스트에는 아래의 데이터가 바인딩 되어 있다\n",
        "interest = ['삼성전자', 'LG전자', 'Naver', 'SK하이닉스', '미래에셋대우']\n",
        "\n",
        "#interest 리스트를 사용하여 아래와 같이 화면에 출력하라\n",
        "#출력 예시:\n",
        "#삼성전자 LG전자 Naver SK하이닉스 미래에셋대우\n",
        "print(\" \".join(interest))"
      ],
      "metadata": {
        "colab": {
          "base_uri": "https://localhost:8080/"
        },
        "id": "a4SkZVL7mZ7K",
        "outputId": "2ba6273f-50bc-4755-b626-fbcab69cf2f5"
      },
      "execution_count": null,
      "outputs": [
        {
          "output_type": "stream",
          "name": "stdout",
          "text": [
            "삼성전자 LG전자 Naver SK하이닉스 미래에셋대우\n"
          ]
        }
      ]
    },
    {
      "cell_type": "code",
      "source": [
        "#067 join 메서드\n",
        "#interest 리스트에는 아래의 데이터가 바인딩되어 있다\n",
        "\n",
        "interest = ['삼성전자', 'LG전자', 'Naver', 'SK하이닉스', '미래에셋대우']\n",
        "\n",
        "#interest 리스트를 사용하여 아래와 같이 화면에 출력하라\n",
        "#출력 예시:\n",
        "#삼성전자/LG전자/Naver/SK하이닉스/미래에셋대우\n",
        "\n",
        "print('/'.join(interest))"
      ],
      "metadata": {
        "colab": {
          "base_uri": "https://localhost:8080/"
        },
        "id": "fUGera5hnKlN",
        "outputId": "f7b17f04-ef1e-4d98-be26-3cf3b715ffab"
      },
      "execution_count": null,
      "outputs": [
        {
          "output_type": "stream",
          "name": "stdout",
          "text": [
            "삼성전자/LG전자/Naver/SK하이닉스/미래에셋대우\n"
          ]
        }
      ]
    },
    {
      "cell_type": "code",
      "source": [
        "#068 join 메서드\n",
        "#interest 리스트에는 아래의 데이터가 바인딩 되어 있다\n",
        "\n",
        "interest = ['삼성전자', 'LG전자', 'Naver', 'SK하이닉스', '미래에셋대우']\n",
        "\n",
        "#join() 메서드를 사용해서 interest 리스트를 아래와 같이 화면에 출력하라\n",
        "\n",
        "#출력 예시:\n",
        "#삼성전자\n",
        "#LG전자\n",
        "#Naver\n",
        "#SK하이닉스\n",
        "#미래에셋대우\n",
        "\n",
        "print('\\n'.join(interest))"
      ],
      "metadata": {
        "colab": {
          "base_uri": "https://localhost:8080/"
        },
        "id": "1MIXSLI9ndr1",
        "outputId": "8a611877-059f-4211-e6d5-5899869d80c8"
      },
      "execution_count": null,
      "outputs": [
        {
          "output_type": "stream",
          "name": "stdout",
          "text": [
            "삼성전자\n",
            "LG전자\n",
            "Naver\n",
            "SK하이닉스\n",
            "미래에셋대우\n"
          ]
        }
      ]
    },
    {
      "cell_type": "code",
      "source": [
        "#069 문자열 split 메서드\n",
        "#회사 이름이 슬래시('/')로 구분되어 하나의 문자열로 저장되어 있다\n",
        "\n",
        "string = \"삼성전자/LG전자/Naver\"\n",
        "\n",
        "#이를 interest 이름의 리스트로 분리 저장하라\n",
        "\n",
        "#실행 예시\n",
        "#>> print(interest)\n",
        "#['삼성전자', 'LG전자', 'Naver']\n",
        "\n",
        "interest = string.split('/')\n",
        "print(interest)\n"
      ],
      "metadata": {
        "colab": {
          "base_uri": "https://localhost:8080/"
        },
        "id": "f1MA3LEinzDp",
        "outputId": "e2d45076-ff5e-4909-e450-56a57849ce29"
      },
      "execution_count": null,
      "outputs": [
        {
          "output_type": "stream",
          "name": "stdout",
          "text": [
            "['삼성전자', 'LG전자', 'Naver']\n"
          ]
        }
      ]
    },
    {
      "cell_type": "code",
      "source": [
        "#070 리스트 정렬\n",
        "#리스트에 있는 값을 오름차순으로 정렬하세요\n",
        "\n",
        "data = [2,4,3,1,5,10,9]\n",
        "data.sort()\n",
        "print(data)\n",
        "\n",
        "#a = sorted(data)   sorted: 순서대로 정렬, 정렬된 리스트를 반환 / 정렬된 결과를 반환하는 함수는 본체는 변형하지 않음\n",
        "#print(a)"
      ],
      "metadata": {
        "colab": {
          "base_uri": "https://localhost:8080/"
        },
        "id": "m7S2zVspoqYP",
        "outputId": "01c89886-0661-45c4-ba5e-18e1b4bf0b65"
      },
      "execution_count": null,
      "outputs": [
        {
          "output_type": "stream",
          "name": "stdout",
          "text": [
            "[1, 2, 3, 4, 5, 9, 10]\n"
          ]
        }
      ]
    }
  ]
}