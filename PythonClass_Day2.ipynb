{
  "cells": [
    {
      "cell_type": "markdown",
      "metadata": {
        "id": "view-in-github",
        "colab_type": "text"
      },
      "source": [
        "<a href=\"https://colab.research.google.com/github/yonguncho/pythonclass/blob/main/PythonClass_Day2.ipynb\" target=\"_parent\"><img src=\"https://colab.research.google.com/assets/colab-badge.svg\" alt=\"Open In Colab\"/></a>"
      ]
    },
    {
      "cell_type": "code",
      "execution_count": null,
      "id": "b62eec35",
      "metadata": {
        "id": "b62eec35",
        "outputId": "7cf95a66-f966-455e-96dd-2af87de983f1"
      },
      "outputs": [
        {
          "name": "stdout",
          "output_type": "stream",
          "text": [
            "Hello World!!!\n"
          ]
        }
      ],
      "source": [
        "print(\"Hello World!!!\")"
      ]
    },
    {
      "cell_type": "code",
      "execution_count": null,
      "id": "4e6d0b93",
      "metadata": {
        "id": "4e6d0b93",
        "outputId": "9c26521f-8930-4572-a476-e7fcfa750ddb"
      },
      "outputs": [
        {
          "name": "stdout",
          "output_type": "stream",
          "text": [
            "택시를 타자\n"
          ]
        }
      ],
      "source": [
        "money = True\n",
        "\n",
        "if money == True:\n",
        "    print(\"택시를 타자\")\n",
        "else:\n",
        "    print(\"걸어 가자\")\n",
        "    "
      ]
    },
    {
      "cell_type": "code",
      "execution_count": null,
      "id": "71367782",
      "metadata": {
        "id": "71367782",
        "outputId": "0219df54-c4fa-4bc8-902b-b7e17ce847dc"
      },
      "outputs": [
        {
          "name": "stdout",
          "output_type": "stream",
          "text": [
            "걸어가자\n"
          ]
        }
      ],
      "source": [
        "money = 500\n",
        "\n",
        "if money >= 5000:\n",
        "    print(\"택시를 타자\")\n",
        "elif money >= 1000:\n",
        "    print(\"버스를 타자\")\n",
        "else:\n",
        "    print(\"걸어가자\")"
      ]
    },
    {
      "cell_type": "code",
      "execution_count": null,
      "id": "2225cc6b",
      "metadata": {
        "id": "2225cc6b",
        "outputId": "76ae4ad7-2ae6-4b64-9edb-795b64979f74"
      },
      "outputs": [
        {
          "name": "stdout",
          "output_type": "stream",
          "text": [
            "70\n",
            "C 학점 입니다\n"
          ]
        }
      ],
      "source": [
        "#학생의 설정을 입력 받아서 \n",
        "#점수가 90 이상이면 'A'학점 입니다.\n",
        "#점수가 80 이상이면 'B'학점 입니다.\n",
        "#점수가 70 이상이면 'C'학점 입니다.\n",
        "#점수가 60 이상이면 'D'학점 입니다.\n",
        "#나머지는 모두 'F' 학점입니다.\n",
        "\n",
        "score = int(input ())\n",
        "\n",
        "if score >= 90: \n",
        "    print(\"A 학점 입니다\")\n",
        "    \n",
        "elif score >= 80:\n",
        "    print(\"B 학점 입니다\")\n",
        "    \n",
        "elif score >= 70:\n",
        "    print(\"C 학점 입니다\")\n",
        "    \n",
        "elif score >= 60:\n",
        "    print(\"D 학점 입니다\")\n",
        "    \n",
        "else:\n",
        "    print(\"F 학점 입니다\")\n",
        "\n",
        "\n"
      ]
    },
    {
      "cell_type": "code",
      "execution_count": null,
      "id": "f177e573",
      "metadata": {
        "id": "f177e573",
        "outputId": "d2b11526-fc4d-467e-841a-f09a380e23a4"
      },
      "outputs": [
        {
          "name": "stdout",
          "output_type": "stream",
          "text": [
            "10\n",
            "9\n",
            "8\n",
            "7\n",
            "6\n",
            "5\n",
            "4\n",
            "3\n",
            "2\n",
            "1\n",
            "0\n"
          ]
        }
      ],
      "source": [
        "#while\n",
        "\n",
        "num = 10\n",
        "\n",
        "while num >= 0:\n",
        "    print(num)\n",
        "    num = num -1"
      ]
    },
    {
      "cell_type": "code",
      "execution_count": null,
      "id": "44954f17",
      "metadata": {
        "id": "44954f17",
        "outputId": "689c29c2-fff2-430f-a848-7e65e406898f"
      },
      "outputs": [
        {
          "name": "stdout",
          "output_type": "stream",
          "text": [
            "1. 덧셈 / 2. 뺄셈 / 3. 곱셈 / 4. 나눗셈 / 5. 종료\n",
            "1\n",
            "1. 덧셈 / 2. 뺄셈 / 3. 곱셈 / 4. 나눗셈 / 5. 종료\n",
            "2\n",
            "1. 덧셈 / 2. 뺄셈 / 3. 곱셈 / 4. 나눗셈 / 5. 종료\n",
            "3\n",
            "1. 덧셈 / 2. 뺄셈 / 3. 곱셈 / 4. 나눗셈 / 5. 종료\n",
            "4\n",
            "1. 덧셈 / 2. 뺄셈 / 3. 곱셈 / 4. 나눗셈 / 5. 종료\n",
            "5\n"
          ]
        }
      ],
      "source": [
        "prompt = \"1. 덧셈 / 2. 뺄셈 / 3. 곱셈 / 4. 나눗셈 / 5. 종료\"\n",
        "num = 0\n",
        "\n",
        "while num <= 4:\n",
        "    print(prompt)\n",
        "    num = int(input())\n",
        "    "
      ]
    },
    {
      "cell_type": "code",
      "execution_count": null,
      "id": "fa457cc3",
      "metadata": {
        "id": "fa457cc3",
        "outputId": "a9a30109-aec1-4cee-867c-c72d803d254c"
      },
      "outputs": [
        {
          "name": "stdout",
          "output_type": "stream",
          "text": [
            "0\n",
            "1\n",
            "2\n",
            "3\n",
            "4\n",
            "5\n",
            "6\n",
            "7\n",
            "8\n",
            "9\n",
            "10\n"
          ]
        }
      ],
      "source": [
        "no = 0\n",
        "\n",
        "while no <= 10:\n",
        "    print(no)\n",
        "    no = no +1"
      ]
    },
    {
      "cell_type": "code",
      "execution_count": null,
      "id": "246ee36b",
      "metadata": {
        "scrolled": true,
        "id": "246ee36b",
        "outputId": "785d0310-dc75-4582-ff02-7e4b5363053a"
      },
      "outputs": [
        {
          "name": "stdout",
          "output_type": "stream",
          "text": [
            "0\n",
            "1\n",
            "2\n",
            "3\n",
            "4\n",
            "5\n",
            "6\n",
            "7\n",
            "8\n",
            "9\n",
            "10\n"
          ]
        }
      ],
      "source": [
        "#True는 반드시 대분자 T로 해야한다.\n",
        "\n",
        "no = 0\n",
        "\n",
        "while True:     \n",
        "    print(no)\n",
        "    no = no +1\n",
        "    \n",
        "    if no > 10:\n",
        "        break\n",
        "    "
      ]
    },
    {
      "cell_type": "code",
      "execution_count": null,
      "id": "6ba75bde",
      "metadata": {
        "id": "6ba75bde",
        "outputId": "fa557843-256e-42d8-af3d-ecb0cc703851"
      },
      "outputs": [
        {
          "name": "stdout",
          "output_type": "stream",
          "text": [
            "1683\n"
          ]
        }
      ],
      "source": [
        "no = 1\n",
        "sum = 0\n",
        "\n",
        "while no <= 100:\n",
        "\n",
        "    no = no + 1  # 1) 번 방법: if 빠지고 다시 올라와서 while 밑에.. 1)번 또는 2)번 둘 중 편한대로 사용\n",
        "\n",
        "    if no % 3 == 0:\n",
        "        sum = sum + no\n",
        "            \n",
        "    #no = no + 1 #python: no+=1 , java: no++; 2)번 방법: if가 빠지고 나서\n",
        "        \n",
        "print(sum)"
      ]
    },
    {
      "cell_type": "code",
      "execution_count": null,
      "id": "00162559",
      "metadata": {
        "id": "00162559"
      },
      "outputs": [],
      "source": [
        "#For 구문\n",
        "for  변수명 in 리스트():\n",
        "     구행 구문"
      ]
    },
    {
      "cell_type": "code",
      "execution_count": null,
      "id": "75d6358e",
      "metadata": {
        "id": "75d6358e",
        "outputId": "c3a6e226-95dc-43bd-e6cf-4478a4f461f2"
      },
      "outputs": [
        {
          "name": "stdout",
          "output_type": "stream",
          "text": [
            "1\n",
            "2\n",
            "3\n",
            "4\n",
            "5\n",
            "6\n",
            "7\n",
            "8\n",
            "9\n"
          ]
        }
      ],
      "source": [
        "for i in [1,2,3,4,5,6,7,8,9]:\n",
        "    print(i)"
      ]
    },
    {
      "cell_type": "code",
      "execution_count": null,
      "id": "afcee726",
      "metadata": {
        "id": "afcee726",
        "outputId": "fe29e5fa-1c19-44b7-e35b-15bef373841a"
      },
      "outputs": [
        {
          "name": "stdout",
          "output_type": "stream",
          "text": [
            "1 번째 학생은 불합격입니다.\n",
            "2 번째 학생은 합격입니다.\n",
            "3 번째 학생은 불합격입니다.\n",
            "4 번째 학생은 불합격입니다.\n",
            "5 번째 학생은 합격입니다.\n"
          ]
        }
      ],
      "source": [
        "math = [80, 90, 70, 70, 100]\n",
        "\n",
        "j = 1\n",
        "\n",
        "for i in math:\n",
        "\n",
        "    if i >= 90:\n",
        "        print(j, \"번째 학생은 합격입니다.\")\n",
        "    else:\n",
        "        print(j, \"번째 학생은 불합격입니다.\")\n",
        "\n",
        "    j += 1"
      ]
    },
    {
      "cell_type": "code",
      "execution_count": null,
      "id": "ef481b57",
      "metadata": {
        "id": "ef481b57",
        "outputId": "5f610a19-d454-486d-b73d-6bc6577cae38"
      },
      "outputs": [
        {
          "name": "stdout",
          "output_type": "stream",
          "text": [
            "1\n",
            "2\n",
            "3\n",
            "4\n",
            "5\n",
            "6\n",
            "7\n",
            "8\n",
            "9\n",
            "10\n"
          ]
        }
      ],
      "source": [
        "for i in  [1,2,3,4,5,6,7,8,9,10]:\n",
        "    print(i)\n",
        "    "
      ]
    },
    {
      "cell_type": "code",
      "execution_count": null,
      "id": "74d5072a",
      "metadata": {
        "id": "74d5072a",
        "outputId": "b23bf83a-68fa-4b36-f47c-f10fbba00d7f"
      },
      "outputs": [
        {
          "name": "stdout",
          "output_type": "stream",
          "text": [
            "2\n",
            "4\n",
            "6\n",
            "8\n",
            "10\n"
          ]
        }
      ],
      "source": [
        "#짝수만 찍을 때\n",
        "\n",
        "for i in  [1,2,3,4,5,6,7,8,9,10]:\n",
        "    if i % 2 == 0:\n",
        "        print(i)"
      ]
    },
    {
      "cell_type": "code",
      "execution_count": null,
      "id": "651d349b",
      "metadata": {
        "id": "651d349b",
        "outputId": "91932df7-b178-4a17-9a54-9bd44cb19cb4"
      },
      "outputs": [
        {
          "name": "stdout",
          "output_type": "stream",
          "text": [
            "1\n",
            "3\n",
            "5\n",
            "7\n",
            "9\n"
          ]
        }
      ],
      "source": [
        "#홀수만 찍을 때\n",
        "\n",
        "for i in  [1,2,3,4,5,6,7,8,9,10]:\n",
        "    if i % 2 != 0:\n",
        "        print(i)"
      ]
    },
    {
      "cell_type": "code",
      "execution_count": null,
      "id": "e3848c68",
      "metadata": {
        "id": "e3848c68",
        "outputId": "58f2c7d9-aee8-4f78-a290-dcf872f93020"
      },
      "outputs": [
        {
          "name": "stdout",
          "output_type": "stream",
          "text": [
            "2\n",
            "4\n",
            "6\n",
            "8\n",
            "10\n"
          ]
        }
      ],
      "source": [
        "#Continue \n",
        "\n",
        "for i in  [1,2,3,4,5,6,7,8,9,10]:\n",
        "    if i % 2 != 0:\n",
        "        continue   #Continue를 만나면 아래로 안내려가고 위로 다시 올린다\n",
        "\n",
        "    print(i)"
      ]
    },
    {
      "cell_type": "code",
      "execution_count": null,
      "id": "3e1c6f80",
      "metadata": {
        "id": "3e1c6f80",
        "outputId": "47ae3a03-8ac6-4960-cd02-34c04e02b313"
      },
      "outputs": [
        {
          "name": "stdout",
          "output_type": "stream",
          "text": [
            "range(1, 11)\n"
          ]
        }
      ],
      "source": [
        "#range 함수\n",
        "\n",
        "print(range(1,11))\n",
        "\n",
        "\n"
      ]
    },
    {
      "cell_type": "code",
      "execution_count": null,
      "id": "c8b3050a",
      "metadata": {
        "id": "c8b3050a",
        "outputId": "235274c4-d6e7-4866-d179-916b58a01d10"
      },
      "outputs": [
        {
          "name": "stdout",
          "output_type": "stream",
          "text": [
            "1\n",
            "2\n",
            "3\n",
            "4\n",
            "5\n",
            "6\n",
            "7\n",
            "8\n",
            "9\n",
            "10\n"
          ]
        }
      ],
      "source": [
        "for i in range(1,11): #두 번째 수는 미만\n",
        "    print(i)"
      ]
    },
    {
      "cell_type": "code",
      "execution_count": null,
      "id": "a1014ead",
      "metadata": {
        "id": "a1014ead",
        "outputId": "454b6179-23c4-4048-94c4-1f9eaf073ad9"
      },
      "outputs": [
        {
          "name": "stdout",
          "output_type": "stream",
          "text": [
            "2\t4\t6\t8\t10\t12\t14\t16\t18\t\n",
            "3\t6\t9\t12\t15\t18\t21\t24\t27\t\n",
            "4\t8\t12\t16\t20\t24\t28\t32\t36\t\n",
            "5\t10\t15\t20\t25\t30\t35\t40\t45\t\n",
            "6\t12\t18\t24\t30\t36\t42\t48\t54\t\n",
            "7\t14\t21\t28\t35\t42\t49\t56\t63\t\n",
            "8\t16\t24\t32\t40\t48\t56\t64\t72\t\n",
            "9\t18\t27\t36\t45\t54\t63\t72\t81\t\n"
          ]
        }
      ],
      "source": [
        "# for 문으로 구구단 출력하기\n",
        "\n",
        "for i in range (2,10): #i는 단을 표현\n",
        "    for j in range (1,10):\n",
        "        print(i*j, end= \"\\t\")\n",
        "    print()  #그냥 print()는 줄바꿈을 의미한다"
      ]
    },
    {
      "cell_type": "code",
      "execution_count": null,
      "id": "4e96ef9e",
      "metadata": {
        "scrolled": true,
        "id": "4e96ef9e",
        "outputId": "eb4b257c-0d2b-4af5-9b0b-26e162a5d696"
      },
      "outputs": [
        {
          "name": "stdout",
          "output_type": "stream",
          "text": [
            "2\t3\t4\t5\t6\t7\t8\t9\t\n",
            "4\t6\t8\t10\t12\t14\t16\t18\t\n",
            "6\t9\t12\t15\t18\t21\t24\t27\t\n",
            "8\t12\t16\t20\t24\t28\t32\t36\t\n",
            "10\t15\t20\t25\t30\t35\t40\t45\t\n",
            "12\t18\t24\t30\t36\t42\t48\t54\t\n",
            "14\t21\t28\t35\t42\t49\t56\t63\t\n",
            "16\t24\t32\t40\t48\t56\t64\t72\t\n",
            "18\t27\t36\t45\t54\t63\t72\t81\t\n"
          ]
        }
      ],
      "source": [
        "for i in range (1, 10):\n",
        "    for j in range (2, 10):\n",
        "        print (i*j, end=\"\\t\")\n",
        "    print()\n",
        "        "
      ]
    },
    {
      "cell_type": "code",
      "execution_count": null,
      "id": "f7446c40",
      "metadata": {
        "id": "f7446c40",
        "outputId": "22826d32-004b-483e-9ea5-aee77d0e6432"
      },
      "outputs": [
        {
          "name": "stdout",
          "output_type": "stream",
          "text": [
            "2550\n"
          ]
        }
      ],
      "source": [
        "#range를 사용하여 100이하의 수 중 짝수들만의 합계를 구하세요\n",
        "\n",
        "sum = 0\n",
        "\n",
        "for i in range (1, 101):\n",
        "    i += 1\n",
        "    if i % 2 ==0:\n",
        "        sum += i\n",
        "print(sum)"
      ]
    },
    {
      "cell_type": "code",
      "execution_count": null,
      "id": "50a9a2f3",
      "metadata": {
        "id": "50a9a2f3",
        "outputId": "c68fe800-9258-47c7-e139-8d8c447c29b7"
      },
      "outputs": [
        {
          "name": "stdout",
          "output_type": "stream",
          "text": [
            "0\n",
            "2\n",
            "4\n",
            "6\n",
            "8\n",
            "10\n"
          ]
        }
      ],
      "source": [
        "#range를 사용하여 100이하의 수 중 짝수들만의 합계를 구하세요\n",
        "#range(start,stop,step)\n",
        "\n",
        "#for i in range(10): #start를 생략하면 0에서 시작한다.\n",
        "#    print(i)\n",
        "\n",
        "for i in range(0,11,2): #stop을 생략하면 1씩 증가\n",
        "    print(i)"
      ]
    },
    {
      "cell_type": "code",
      "execution_count": null,
      "id": "4fb3b61e",
      "metadata": {
        "id": "4fb3b61e",
        "outputId": "d8dd98c5-f82d-4d9f-b5bc-16c9e766a372"
      },
      "outputs": [
        {
          "name": "stdout",
          "output_type": "stream",
          "text": [
            "[1, 2, 3, 4]\n",
            "[1, 2, 3, 4]\n",
            "[2, 4, 6, 8]\n",
            "[2, 4]\n"
          ]
        }
      ],
      "source": [
        "#리스트 축약/내포 List Comprehension\n",
        "#리스트를 좀더 편리하고 직관적으로 만드는 방법이다.\n",
        "\n",
        "list1 = [1,2,3,4]\n",
        "\n",
        "print(list1)\n",
        "\n",
        "list2 = [num for num in list1] #list1앞에 num을 받고, 이 num이 for 앞 num에 전달\n",
        "\n",
        "print(list2)\n",
        "\n",
        "list3 = [num*2 for num in list1] #앞 리스트에서 값을 꺼내 연산\n",
        "\n",
        "print(list3)\n",
        "\n",
        "list4 = [num for num in list1  if num % 2 == 0] \n",
        "#list1에서 num을 꺼내서 조건에 만족하면 맨 앞 num으로 리스트 가져옴\n",
        "\n",
        "print(list4)\n"
      ]
    },
    {
      "cell_type": "code",
      "execution_count": null,
      "id": "8e21fa50",
      "metadata": {
        "id": "8e21fa50",
        "outputId": "a0ad6c0d-8095-44cf-84e6-04d5f85ffa45"
      },
      "outputs": [
        {
          "name": "stdout",
          "output_type": "stream",
          "text": [
            "합격\n",
            "불합격입니다.\n"
          ]
        }
      ],
      "source": [
        "no = 70\n",
        "\n",
        "if no >= 70:\n",
        "    print(\"합격\")\n",
        "else:\n",
        "    print(\"불합격\")\n",
        "    \n",
        "\n",
        "print(\"합격입니다.\" if no >= 80  else \"불합격입니다.\")\n",
        "    "
      ]
    },
    {
      "cell_type": "code",
      "execution_count": null,
      "id": "e1c30555",
      "metadata": {
        "id": "e1c30555"
      },
      "outputs": [],
      "source": []
    }
  ],
  "metadata": {
    "kernelspec": {
      "display_name": "Python 3 (ipykernel)",
      "language": "python",
      "name": "python3"
    },
    "language_info": {
      "codemirror_mode": {
        "name": "ipython",
        "version": 3
      },
      "file_extension": ".py",
      "mimetype": "text/x-python",
      "name": "python",
      "nbconvert_exporter": "python",
      "pygments_lexer": "ipython3",
      "version": "3.9.13"
    },
    "colab": {
      "provenance": [],
      "include_colab_link": true
    }
  },
  "nbformat": 4,
  "nbformat_minor": 5
}