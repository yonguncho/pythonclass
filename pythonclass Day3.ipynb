{
 "cells": [
  {
   "cell_type": "code",
   "execution_count": 3,
   "metadata": {},
   "outputs": [
    {
     "name": "stdout",
     "output_type": "stream",
     "text": [
      "hello world\n"
     ]
    }
   ],
   "source": [
    "print('hello world')"
   ]
  },
  {
   "cell_type": "code",
   "execution_count": 4,
   "metadata": {},
   "outputs": [],
   "source": [
    "#함수의 4가지 형태\n",
    "\n",
    "# 1 input 과 output 모두 있는 형태 (가장 많이 사용되는 형태)\n",
    "# 2 input 과 output 모두 없는 형태 \n",
    "# 3 input 만 있는 형태\n",
    "# 4 output만 있는 형태"
   ]
  },
  {
   "cell_type": "code",
   "execution_count": 5,
   "metadata": {},
   "outputs": [
    {
     "name": "stdout",
     "output_type": "stream",
     "text": [
      "3\n"
     ]
    }
   ],
   "source": [
    "# 1 input 과 output 모두 있는 형태 (가장 많이 사용되는 형태)\n",
    "\n",
    "def add(a,b):        # a와 b라는 입력\n",
    "    return a+b       # return 이라는 키워드가 있으면 output이 존재한다 \n",
    "print(add(1,2))"
   ]
  },
  {
   "cell_type": "code",
   "execution_count": 10,
   "metadata": {},
   "outputs": [
    {
     "name": "stdout",
     "output_type": "stream",
     "text": [
      "hello\n"
     ]
    }
   ],
   "source": [
    "# 2 input 과 output 모두 없는 형태 \n",
    "\n",
    "def say():            # 괄호안에 아무런 값이 없으면 input이 없는 것이다\n",
    "    print('hello')    # return 키워드가 없으면 output이 없는 것이다\n",
    "    \n",
    "say()"
   ]
  },
  {
   "cell_type": "code",
   "execution_count": 1,
   "metadata": {},
   "outputs": [
    {
     "name": "stdout",
     "output_type": "stream",
     "text": [
      "OOO 님 환영합니다.\n"
     ]
    }
   ],
   "source": [
    "# 3 input 만 있는 형태\n",
    "\n",
    "def inputonly(name):\n",
    "    print(name, \"님 환영합니다.\")    # return이 없으면 output은 없는 것이다\n",
    "    \n",
    "inputonly(\"OOO\")"
   ]
  },
  {
   "cell_type": "code",
   "execution_count": 14,
   "metadata": {},
   "outputs": [
    {
     "data": {
      "text/plain": [
       "'hello world'"
      ]
     },
     "execution_count": 14,
     "metadata": {},
     "output_type": "execute_result"
    }
   ],
   "source": [
    "# 4 output만 있는 형태\n",
    "\n",
    "def outputonly():\n",
    "    return \"hello world\"\n",
    "\n",
    "outputonly()"
   ]
  },
  {
   "cell_type": "code",
   "execution_count": 15,
   "metadata": {},
   "outputs": [
    {
     "name": "stdout",
     "output_type": "stream",
     "text": [
      "3\n",
      "6\n"
     ]
    }
   ],
   "source": [
    "def sumfunction1(a,b):\n",
    "    return a+b\n",
    "print(sumfunction1(1,2))\n",
    "\n",
    "def sumfunction2(a,b,c):\n",
    "    return a+b+c\n",
    "print(sumfunction2(1,2,3))"
   ]
  },
  {
   "cell_type": "code",
   "execution_count": 80,
   "metadata": {},
   "outputs": [
    {
     "name": "stdout",
     "output_type": "stream",
     "text": [
      "1.5\n",
      "2.0\n"
     ]
    }
   ],
   "source": [
    "#함수의 인수의 갯수가 일정하지 않을 경우 처리 방법 특징\n",
    "\n",
    "def sum1(*args):\n",
    "    result = 0\n",
    "    for i in args:\n",
    "        result = result + i\n",
    "    \n",
    "    return result\n",
    "    \n",
    "print(sum1(1,2))\n",
    "print(sum1(1,2,3))"
   ]
  },
  {
   "cell_type": "code",
   "execution_count": 26,
   "metadata": {},
   "outputs": [
    {
     "name": "stdout",
     "output_type": "stream",
     "text": [
      "(5, 6)\n",
      "5\n",
      "6\n"
     ]
    }
   ],
   "source": [
    "# 함수의 결과 값은 언제나 '하나'라는 특징\n",
    "\n",
    "def add_mul(a,b):\n",
    "    return a+b, a*b\n",
    "\n",
    "print(add_mul(2,3))  #실제 값이 두 개가 아니라, add_mul 하나의 튜플에 값이 두개 들어가 있는 것이라 출력 가능\n",
    "\n",
    "res1, res2 = add_mul(2,3)\n",
    "print(res1)\n",
    "print(res2)"
   ]
  },
  {
   "cell_type": "code",
   "execution_count": 28,
   "metadata": {},
   "outputs": [
    {
     "name": "stdout",
     "output_type": "stream",
     "text": [
      "5\n"
     ]
    }
   ],
   "source": [
    "def add_mul(a,b):\n",
    "    return a+b\n",
    "    return a*b      # 곱하기 결과는 수행되지 앟는다.\n",
    "                    # return을 만나면 함수에서 나간다는 특징이 있다. \n",
    "res = add_mul(2,3)\n",
    "print(res)"
   ]
  },
  {
   "cell_type": "code",
   "execution_count": 35,
   "metadata": {},
   "outputs": [
    {
     "name": "stdout",
     "output_type": "stream",
     "text": [
      "Hello nick\n",
      "Hello jane\n"
     ]
    }
   ],
   "source": [
    "# return의 마지막 특징\n",
    "\n",
    "def sayhello(name):\n",
    "    if name == \"yongun\":\n",
    "        return\n",
    "    print(\"Hello\", name)\n",
    "    \n",
    "sayhello(\"nick\")\n",
    "sayhello(\"yongun\")\n",
    "sayhello(\"jane\")"
   ]
  },
  {
   "cell_type": "code",
   "execution_count": 42,
   "metadata": {},
   "outputs": [
    {
     "name": "stdout",
     "output_type": "stream",
     "text": [
      "내 이름은 조용운 이고 나이는 21 이며 남성입니다.\n",
      "내 이름은 이몽룡 이고 나이는 14 이며 남성입니다.\n",
      "내 이름은 성춘향 이고 나이는 13 이며 여성입니다\n"
     ]
    }
   ],
   "source": [
    "#매개변수에 미리 초기값을 설정하는 특징\n",
    "\n",
    "def sayname(name, age, man=True):\n",
    "    print(\"내 이름은\", name, \"이고\", \"나이는\", age, \"이며\", end=\" \")\n",
    "    if man:\n",
    "        print(\"남성입니다.\")\n",
    "    else:\n",
    "        print(\"여성입니다\")\n",
    "        \n",
    "sayname(\"조용운\", 21)        # 없으면 Default로 True\n",
    "sayname(\"이몽룡\", 14, True)\n",
    "sayname(\"성춘향\", 13, False)"
   ]
  },
  {
   "cell_type": "code",
   "execution_count": 53,
   "metadata": {},
   "outputs": [
    {
     "name": "stdout",
     "output_type": "stream",
     "text": [
      "나의 이름은 홍길동이고 나이는 18 입니다.\n"
     ]
    }
   ],
   "source": [
    "# 출력하는 방법 f-string 사용\n",
    "\n",
    "name =\"홍길동\"\n",
    "age = 18\n",
    "print(f\"나의 이름은 {name}이고 나이는 {age} 입니다.\")\n"
   ]
  },
  {
   "cell_type": "code",
   "execution_count": 60,
   "metadata": {},
   "outputs": [
    {
     "name": "stdout",
     "output_type": "stream",
     "text": [
      "1\n"
     ]
    }
   ],
   "source": [
    "#함수 안에서의 변수 영향 범위 - 전역 변수/지역변수 global/local variable\n",
    "\n",
    "a = 1\n",
    "def varexam(a):\n",
    "    a += 1           #함수 안에서의 변수 값은 함수 밖에는 전혀 영향을 미치지 않는다.\n",
    "        \n",
    "varexam(a)\n",
    "print(a)\n",
    "\n"
   ]
  },
  {
   "cell_type": "code",
   "execution_count": 67,
   "metadata": {},
   "outputs": [
    {
     "name": "stdout",
     "output_type": "stream",
     "text": [
      "2\n"
     ]
    }
   ],
   "source": [
    "a = 1\n",
    "def varexam(b):\n",
    "    b += 1           \n",
    "    return b        # return을 통해 함수 안에서 갖고 나가게 output 실행\n",
    "        \n",
    "varexam(a)       \n",
    "print(varexam(a))   # return 통해 계산 후 갖고 나온 a의 값이 출력 된다"
   ]
  },
  {
   "cell_type": "code",
   "execution_count": 68,
   "metadata": {},
   "outputs": [
    {
     "name": "stdout",
     "output_type": "stream",
     "text": [
      "2\n"
     ]
    }
   ],
   "source": [
    "a = 1\n",
    "def varexam():\n",
    "    global a         # 변수 a를 함수 안에서 선언하면 전역 변수가 된다  (비추)\n",
    "    a += 1\n",
    "\n",
    "varexam()       \n",
    "print(a)"
   ]
  },
  {
   "cell_type": "code",
   "execution_count": 75,
   "metadata": {},
   "outputs": [
    {
     "name": "stdout",
     "output_type": "stream",
     "text": [
      "홀수입니다\n",
      "짝수입니다\n"
     ]
    }
   ],
   "source": [
    "#QUIZ\n",
    "#주어진 자연수가 홀수인지 짝수인지 판별해주는 함수(IS_ODD)를 작성해보자\n",
    "\n",
    "#isodd(3)\n",
    "#홀수입니다.\n",
    "#isodd(4)\n",
    "#짝수입니다.\n",
    "\n",
    "def isodd(i):\n",
    "    if i % 2 == 0:\n",
    "        print(\"짝수입니다\")\n",
    "    else:\n",
    "        print(\"홀수입니다\")\n",
    "\n",
    "isodd(3)\n",
    "isodd(4)"
   ]
  },
  {
   "cell_type": "code",
   "execution_count": 92,
   "metadata": {},
   "outputs": [
    {
     "name": "stdout",
     "output_type": "stream",
     "text": [
      "2.0\n",
      "3.0\n"
     ]
    }
   ],
   "source": [
    "#QUIZ\n",
    "#입력으로 들어오는 모든 수의 평균 값을 계산해주는 함수를 작성해보자\n",
    "\n",
    "#avenum(1,2,3)\n",
    "#2\n",
    "#avenum(1,2,3,4,5)\n",
    "#3\n",
    "\n",
    "def avenum(*args):\n",
    "    result = 0\n",
    "    for i in args:\n",
    "        result = result + i\n",
    "    result = result / len(args)\n",
    "    return result\n",
    "    \n",
    "print(avenum(1,2,3))\n",
    "print(avenum(1,2,3,4,5))\n",
    "\n",
    " "
   ]
  },
  {
   "cell_type": "code",
   "execution_count": 94,
   "metadata": {},
   "outputs": [],
   "source": [
    "# 새로운 txt 파일 만들기\n",
    "#\n",
    "\n",
    "f = open(\"newfile.txt\",\"w\")\n",
    "f.close()"
   ]
  },
  {
   "cell_type": "code",
   "execution_count": 99,
   "metadata": {},
   "outputs": [],
   "source": [
    "# 파일에 내용 넣기\n",
    "\n",
    "f = open(\"newfile2.txt\",\"w\")    # 새 파일 만들기\n",
    "\n",
    "for i in range(1,11):           # 파일에 여러 데이터 넣기\n",
    "    data = \"its %d line.\\n\" % i\n",
    "    f.write(data)\n",
    "\n",
    "f.close()                       # 파일 닫기"
   ]
  },
  {
   "cell_type": "code",
   "execution_count": 3,
   "metadata": {},
   "outputs": [
    {
     "name": "stdout",
     "output_type": "stream",
     "text": [
      "its 1 line.\n",
      "\n",
      "its 2 line.\n",
      "\n",
      "its 3 line.\n",
      "\n",
      "its 4 line.\n",
      "\n",
      "its 5 line.\n",
      "\n",
      "its 6 line.\n",
      "\n",
      "its 7 line.\n",
      "\n",
      "its 8 line.\n",
      "\n",
      "its 9 line.\n",
      "\n",
      "its 10 line.\n",
      "\n"
     ]
    }
   ],
   "source": [
    "# 파일에서 내용 불러오기\n",
    "\n",
    "f = open(\"newfile2.txt\", \"r\")\n",
    "\n",
    "while True:\n",
    "    line = f.readline()\n",
    "    if not line: break\n",
    "    print(line)"
   ]
  },
  {
   "cell_type": "code",
   "execution_count": 13,
   "metadata": {},
   "outputs": [
    {
     "name": "stdout",
     "output_type": "stream",
     "text": [
      "3\n",
      "5\n",
      "1\n",
      "3\n"
     ]
    }
   ],
   "source": [
    "# OOP\n",
    "result1 = 0\n",
    "result2 = 0\n",
    "\n",
    "def add1(num):\n",
    "    global result1\n",
    "    result1 += num\n",
    "    return result1\n",
    "\n",
    "def add2(num):\n",
    "    global result2\n",
    "    result2 += num\n",
    "    return result2\n",
    "\n",
    "print(add1(3))\n",
    "print(add1(2))\n",
    "print(add2(1))\n",
    "print(add2(2))\n"
   ]
  },
  {
   "cell_type": "code",
   "execution_count": 35,
   "metadata": {},
   "outputs": [
    {
     "name": "stdout",
     "output_type": "stream",
     "text": [
      "3\n",
      "5\n",
      "\n",
      "25\n",
      "50\n"
     ]
    }
   ],
   "source": [
    "class cal:\n",
    "\n",
    "    def __init__(self):                 #더블 언더라인 #생성자\n",
    "        self.result =0\n",
    "\n",
    "    def add(self, num):  \n",
    "        global result# 매서드 (함수가 아닌 매서드)\n",
    "        self.result += num\n",
    "        return self.result\n",
    "    \n",
    "    def mul(self,num):\n",
    "        self.result *= num\n",
    "        return self.result\n",
    "\n",
    "cal1 = cal()\n",
    "cal2 = cal()\n",
    "\n",
    "\n",
    "print(cal1.add(3))\n",
    "print(cal1.add(2))\n",
    "print()\n",
    "print(cal1.mul(5))\n",
    "print(cal1.mul(2))\n"
   ]
  },
  {
   "cell_type": "code",
   "execution_count": 31,
   "metadata": {},
   "outputs": [
    {
     "name": "stdout",
     "output_type": "stream",
     "text": [
      "3\n",
      "5\n"
     ]
    }
   ],
   "source": [
    "class cal:\n",
    "    def add(self, first, second):\n",
    "        result = first + second\n",
    "        return result\n",
    "\n",
    "cal1 = cal()\n",
    "cal2 = cal()\n",
    "\n",
    "print(cal1.add(1,2))\n",
    "print(cal2.add(2,3))"
   ]
  },
  {
   "cell_type": "code",
   "execution_count": 36,
   "metadata": {},
   "outputs": [
    {
     "name": "stdout",
     "output_type": "stream",
     "text": [
      "3\n",
      "5\n",
      "\n",
      "2\n",
      "6\n"
     ]
    }
   ],
   "source": [
    "class cal:\n",
    "    def add(self, first, second):\n",
    "        result = first + second\n",
    "        return result\n",
    "\n",
    "    def mul(self, first, second):\n",
    "        result = first * second\n",
    "        return result\n",
    "\n",
    "cal1 = cal()\n",
    "cal2 = cal()\n",
    "\n",
    "print(cal1.add(1,2))\n",
    "print(cal2.add(2,3))\n",
    "print()\n",
    "print(cal1.mul(1,2))\n",
    "print(cal2.mul(2,3))"
   ]
  },
  {
   "cell_type": "code",
   "execution_count": 46,
   "metadata": {},
   "outputs": [
    {
     "name": "stdout",
     "output_type": "stream",
     "text": [
      "3\n",
      "2\n",
      "7\n",
      "12\n"
     ]
    }
   ],
   "source": [
    "class cal:\n",
    "    def setdata(self, first, second):\n",
    "        self.first = first\n",
    "        self.second = second\n",
    "       \n",
    "    def add(self):\n",
    "        result = self.first + self.second\n",
    "        return result\n",
    "\n",
    "    def mul(self):\n",
    "        result = self.first * self.second\n",
    "        return result\n",
    "       \n",
    "cal1 = cal()\n",
    "cal1.setdata(1,2)\n",
    "\n",
    "cal2 = cal()\n",
    "cal2.setdata(3,4)\n",
    "\n",
    "print(cal1.add())\n",
    "print(cal1.mul())\n",
    "\n",
    "print(cal2.add())\n",
    "print(cal2.mul())\n",
    "\n"
   ]
  },
  {
   "cell_type": "code",
   "execution_count": 51,
   "metadata": {},
   "outputs": [
    {
     "name": "stdout",
     "output_type": "stream",
     "text": [
      "3\n",
      "2\n",
      "7\n",
      "12\n"
     ]
    }
   ],
   "source": [
    "# 생성자 Constrctor\n",
    "\n",
    "class cal:\n",
    "    def __init__(self, first, second):        #생성자\n",
    "        self.first = first\n",
    "        self.second = second\n",
    "    \n",
    " #   def setdata(self, first, second):         #매서드\n",
    " #       self.first = first\n",
    " #       self.second = second\n",
    "       \n",
    "    def add(self):\n",
    "        result = self.first + self.second\n",
    "        return result\n",
    "\n",
    "    def mul(self):\n",
    "        result = self.first * self.second\n",
    "        return result\n",
    "       \n",
    "cal1 = cal(1,2)\n",
    "#cal1.setdata(1,2)\n",
    "\n",
    "print(cal1.add())\n",
    "print(cal1.mul())\n",
    "\n",
    "cal2 = cal(3,4)\n",
    "#cal2.setdata(3,4)\n",
    "\n",
    "print(cal2.add())\n",
    "print(cal2.mul())"
   ]
  },
  {
   "cell_type": "code",
   "execution_count": 75,
   "metadata": {},
   "outputs": [
    {
     "data": {
      "text/plain": [
       "'계산 불가입니다'"
      ]
     },
     "execution_count": 75,
     "metadata": {},
     "output_type": "execute_result"
    }
   ],
   "source": [
    "# 상속 \n",
    "\n",
    "class cal:                                    #부모 클래스\n",
    "    def __init__(self, first, second):        #생성자\n",
    "        self.first = first\n",
    "        self.second = second\n",
    "        \n",
    "       \n",
    "    def add(self):\n",
    "        result = self.first + self.second\n",
    "        return result\n",
    "\n",
    "    def mul(self):\n",
    "        result = self.first * self.second\n",
    "        return result\n",
    "    \n",
    "    def div(self):\n",
    "        result = self.first / self.second\n",
    "        return result\n",
    "    \n",
    "class morecal(cal):                            #자식 클래스\n",
    "    def sub(self):\n",
    "        result = self.first - self.second\n",
    "        return result\n",
    "    \n",
    "    def div(self):\n",
    "        if self.second == 0:\n",
    "            return \"계산 불가입니다\"\n",
    "        else:\n",
    "            result = self.first / self.second\n",
    "        return result\n",
    "\n",
    "cal5 =morecal(2,0)\n",
    "#cal3.add()          #cal class 부모 클래스에서 상속 받은 매서드 사용\n",
    "cal5.div()          #새로 만든 morecal class에서 출력\n",
    "    "
   ]
  },
  {
   "cell_type": "code",
   "execution_count": 96,
   "metadata": {},
   "outputs": [
    {
     "name": "stdout",
     "output_type": "stream",
     "text": [
      "프로그램을 종료합니다\n"
     ]
    }
   ],
   "source": [
    "try:\n",
    "    4 / 2\n",
    "except:\n",
    "    print(\"에러가 발생했습니다\")\n",
    "\n",
    "finally:\n",
    "    print(\"프로그램을 종료합니다\")     #에러 발생 유무와 상관없이 항상 마지막에 실행\n",
    "    "
   ]
  },
  {
   "cell_type": "code",
   "execution_count": 107,
   "metadata": {},
   "outputs": [
    {
     "name": "stdout",
     "output_type": "stream",
     "text": [
      "2\n",
      "0으로 나누면 예외가 발생됩니다.\n"
     ]
    }
   ],
   "source": [
    " # 여러 예외 처리\n",
    " \n",
    " try:\n",
    "     a = [1,2]\n",
    "     print(a[1])\n",
    "     print(4/0)\n",
    "except ZeroDivisionError:\n",
    "    print(\"0으로 나누면 예외가 발생됩니다.\")\n",
    "\n",
    "except IndexError:\n",
    "    print(\"찾으시는 인덱스가 없습니다.\") "
   ]
  },
  {
   "cell_type": "code",
   "execution_count": 101,
   "metadata": {},
   "outputs": [
    {
     "ename": "ZeroDivisionError",
     "evalue": "division by zero",
     "output_type": "error",
     "traceback": [
      "\u001b[1;31m---------------------------------------------------------------------------\u001b[0m",
      "\u001b[1;31mZeroDivisionError\u001b[0m                         Traceback (most recent call last)",
      "\u001b[1;32m~\\AppData\\Local\\Temp\\ipykernel_18836\\1095296245.py\u001b[0m in \u001b[0;36m<module>\u001b[1;34m\u001b[0m\n\u001b[1;32m----> 1\u001b[1;33m \u001b[1;36m4\u001b[0m \u001b[1;33m/\u001b[0m\u001b[1;36m0\u001b[0m\u001b[1;33m\u001b[0m\u001b[1;33m\u001b[0m\u001b[0m\n\u001b[0m",
      "\u001b[1;31mZeroDivisionError\u001b[0m: division by zero"
     ]
    }
   ],
   "source": [
    "4 /0"
   ]
  },
  {
   "cell_type": "code",
   "execution_count": 102,
   "metadata": {},
   "outputs": [
    {
     "ename": "IndexError",
     "evalue": "list index out of range",
     "output_type": "error",
     "traceback": [
      "\u001b[1;31m---------------------------------------------------------------------------\u001b[0m",
      "\u001b[1;31mIndexError\u001b[0m                                Traceback (most recent call last)",
      "\u001b[1;32m~\\AppData\\Local\\Temp\\ipykernel_18836\\3547466868.py\u001b[0m in \u001b[0;36m<module>\u001b[1;34m\u001b[0m\n\u001b[0;32m      1\u001b[0m \u001b[0ma\u001b[0m \u001b[1;33m=\u001b[0m \u001b[1;33m[\u001b[0m\u001b[1;36m1\u001b[0m\u001b[1;33m,\u001b[0m\u001b[1;36m2\u001b[0m\u001b[1;33m]\u001b[0m\u001b[1;33m\u001b[0m\u001b[1;33m\u001b[0m\u001b[0m\n\u001b[1;32m----> 2\u001b[1;33m \u001b[0mprint\u001b[0m\u001b[1;33m(\u001b[0m\u001b[0ma\u001b[0m\u001b[1;33m[\u001b[0m\u001b[1;36m3\u001b[0m\u001b[1;33m]\u001b[0m\u001b[1;33m)\u001b[0m\u001b[1;33m\u001b[0m\u001b[1;33m\u001b[0m\u001b[0m\n\u001b[0m",
      "\u001b[1;31mIndexError\u001b[0m: list index out of range"
     ]
    }
   ],
   "source": [
    "     a = [1,2]\n",
    "     print(a[3])"
   ]
  },
  {
   "cell_type": "code",
   "execution_count": 117,
   "metadata": {},
   "outputs": [
    {
     "name": "stdout",
     "output_type": "stream",
     "text": [
      "2\n",
      "division by zero\n"
     ]
    }
   ],
   "source": [
    " #예이 처리 고급표현\n",
    " \n",
    " try:\n",
    "     a = [1,2]\n",
    "     print(a[1])\n",
    "     print(4/0)\n",
    "except (ZeroDivisionError, IndexError) as e:\n",
    "    print(e)\n"
   ]
  },
  {
   "cell_type": "code",
   "execution_count": 123,
   "metadata": {},
   "outputs": [
    {
     "name": "stdout",
     "output_type": "stream",
     "text": [
      "no prlbmel\n",
      "program end\n"
     ]
    }
   ],
   "source": [
    "try:\n",
    "    4 / 2\n",
    "except:                      # 문제가 있을 때만 실행되는 구문\n",
    "    print(\"exception !!!\")\n",
    "else:                        # 문제가 없을 때만 실행되는 구문\n",
    "    print(\"no prlbmel\")\n",
    "finally:                     #언제나 항상 마지막에 실행되는 구문\n",
    "    print(\"program end\")"
   ]
  },
  {
   "cell_type": "code",
   "execution_count": 127,
   "metadata": {},
   "outputs": [],
   "source": [
    "try:\n",
    "    4 /0\n",
    "except:\n",
    "    pass"
   ]
  },
  {
   "cell_type": "code",
   "execution_count": 129,
   "metadata": {},
   "outputs": [
    {
     "ename": "NotImplementedError",
     "evalue": "",
     "output_type": "error",
     "traceback": [
      "\u001b[1;31m---------------------------------------------------------------------------\u001b[0m",
      "\u001b[1;31mNotImplementedError\u001b[0m                       Traceback (most recent call last)",
      "\u001b[1;32m~\\AppData\\Local\\Temp\\ipykernel_18836\\380860054.py\u001b[0m in \u001b[0;36m<module>\u001b[1;34m\u001b[0m\n\u001b[0;32m      6\u001b[0m \u001b[1;33m\u001b[0m\u001b[0m\n\u001b[0;32m      7\u001b[0m \u001b[0mbird1\u001b[0m \u001b[1;33m=\u001b[0m \u001b[0mbird\u001b[0m\u001b[1;33m(\u001b[0m\u001b[1;33m)\u001b[0m\u001b[1;33m\u001b[0m\u001b[1;33m\u001b[0m\u001b[0m\n\u001b[1;32m----> 8\u001b[1;33m \u001b[0mbird1\u001b[0m\u001b[1;33m.\u001b[0m\u001b[0mfly\u001b[0m\u001b[1;33m(\u001b[0m\u001b[1;33m)\u001b[0m\u001b[1;33m\u001b[0m\u001b[1;33m\u001b[0m\u001b[0m\n\u001b[0m",
      "\u001b[1;32m~\\AppData\\Local\\Temp\\ipykernel_18836\\380860054.py\u001b[0m in \u001b[0;36mfly\u001b[1;34m(self)\u001b[0m\n\u001b[0;32m      3\u001b[0m \u001b[1;32mclass\u001b[0m \u001b[0mbird\u001b[0m\u001b[1;33m:\u001b[0m\u001b[1;33m\u001b[0m\u001b[1;33m\u001b[0m\u001b[0m\n\u001b[0;32m      4\u001b[0m     \u001b[1;32mdef\u001b[0m \u001b[0mfly\u001b[0m\u001b[1;33m(\u001b[0m\u001b[0mself\u001b[0m\u001b[1;33m)\u001b[0m\u001b[1;33m:\u001b[0m\u001b[1;33m\u001b[0m\u001b[1;33m\u001b[0m\u001b[0m\n\u001b[1;32m----> 5\u001b[1;33m         \u001b[1;32mraise\u001b[0m \u001b[0mNotImplementedError\u001b[0m\u001b[1;33m\u001b[0m\u001b[1;33m\u001b[0m\u001b[0m\n\u001b[0m\u001b[0;32m      6\u001b[0m \u001b[1;33m\u001b[0m\u001b[0m\n\u001b[0;32m      7\u001b[0m \u001b[0mbird1\u001b[0m \u001b[1;33m=\u001b[0m \u001b[0mbird\u001b[0m\u001b[1;33m(\u001b[0m\u001b[1;33m)\u001b[0m\u001b[1;33m\u001b[0m\u001b[1;33m\u001b[0m\u001b[0m\n",
      "\u001b[1;31mNotImplementedError\u001b[0m: "
     ]
    }
   ],
   "source": [
    "# 예외 상황이 아님에도 불구하고 강제로 예외 상황 만들기\n",
    "\n",
    "class bird:\n",
    "    def fly(self):\n",
    "        raise NotImplementedError\n",
    "    \n",
    "bird1 = bird()\n",
    "bird1.fly()"
   ]
  },
  {
   "cell_type": "code",
   "execution_count": 139,
   "metadata": {},
   "outputs": [
    {
     "name": "stdout",
     "output_type": "stream",
     "text": [
      "3\n"
     ]
    }
   ],
   "source": [
    "class calculator:\n",
    "    def __init__(self):\n",
    "        self.value = 0\n",
    "        \n",
    "    def add(self, val):\n",
    "        self.value += val\n",
    "        return self.value\n",
    "        \n",
    "class upgradecalculator(calculator):\n",
    "    def minus(self, val):\n",
    "        self.value -= val\n",
    "        return self.value\n",
    "\n",
    "cal = calculator()\n",
    "cal = upgradecalculator()\n",
    "\n",
    "cal.add(10)\n",
    "cal.minus(7)\n",
    "\n",
    "print(cal.value)  #10에서 7을 뺀 3을 출력"
   ]
  },
  {
   "cell_type": "code",
   "execution_count": 154,
   "metadata": {},
   "outputs": [
    {
     "name": "stdout",
     "output_type": "stream",
     "text": [
      "100\n"
     ]
    }
   ],
   "source": [
    "# 객체 변수 value가 100 이상은 값을 가질 수 없도록 제한하는 maxlimitcalculato 클래스를 만들어보자.\n",
    "#즉 다음과 같이 동작해야 한다.\n",
    "\n",
    "#cal = Maxlimitcalculator()\n",
    "#cal.add(50) 50 더하기\n",
    "#cal.add(60) 60 더하기\n",
    "\n",
    "#print(cal.value) #100 출력\n",
    "\n",
    "#단 반드시 다음과 같은 calculator 클래스를 상속해서 만들어야 한다.\n",
    "\n",
    "class calculator:\n",
    "    def __init__(self):\n",
    "        self.value = 0\n",
    "        \n",
    "    def add(self, val):\n",
    "        self.value += val\n",
    "        return self.value\n",
    "    \n",
    "class maxlimitcalculator(calculator):\n",
    "    sum = 0\n",
    "    \n",
    "    def add(self,val):\n",
    "        self.value += val\n",
    "        if  self.value > 100:\n",
    "            self.value = 100\n",
    "\n",
    "cal = maxlimitcalculator()\n",
    "cal.add(50)\n",
    "cal.add(60)\n",
    "print(cal.value)\n"
   ]
  }
 ],
 "metadata": {
  "kernelspec": {
   "display_name": "Python 3.9.13 ('base')",
   "language": "python",
   "name": "python3"
  },
  "language_info": {
   "codemirror_mode": {
    "name": "ipython",
    "version": 3
   },
   "file_extension": ".py",
   "mimetype": "text/x-python",
   "name": "python",
   "nbconvert_exporter": "python",
   "pygments_lexer": "ipython3",
   "version": "3.9.13"
  },
  "orig_nbformat": 4,
  "vscode": {
   "interpreter": {
    "hash": "de69d220a37709de1e1a557f2daf858940d9e34d57049d9c98d242eefc5e38d2"
   }
  }
 },
 "nbformat": 4,
 "nbformat_minor": 2
}
