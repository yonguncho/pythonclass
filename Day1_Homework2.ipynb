{
  "nbformat": 4,
  "nbformat_minor": 0,
  "metadata": {
    "colab": {
      "provenance": [],
      "authorship_tag": "ABX9TyMoQ4xIRgAyl52o1WQLJK/P",
      "include_colab_link": true
    },
    "kernelspec": {
      "name": "python3",
      "display_name": "Python 3"
    },
    "language_info": {
      "name": "python"
    }
  },
  "cells": [
    {
      "cell_type": "markdown",
      "metadata": {
        "id": "view-in-github",
        "colab_type": "text"
      },
      "source": [
        "<a href=\"https://colab.research.google.com/github/yonguncho/pythonclass/blob/main/Day1_Homework2.ipynb\" target=\"_parent\"><img src=\"https://colab.research.google.com/assets/colab-badge.svg\" alt=\"Open In Colab\"/></a>"
      ]
    },
    {
      "cell_type": "code",
      "execution_count": null,
      "metadata": {
        "colab": {
          "base_uri": "https://localhost:8080/"
        },
        "id": "8pVLkRpAiLu7",
        "outputId": "fc73c9d0-1669-4e4b-912c-0027ea59515d"
      },
      "outputs": [
        {
          "output_type": "stream",
          "name": "stdout",
          "text": [
            "p t\n"
          ]
        }
      ],
      "source": [
        "#021 문자열 인덱싱\n",
        "#letters가 바인딩하는 문자열에서 첫 번째와 세 번째 문자를 출력하세요\n",
        "\n",
        "letters = 'python'\n",
        "\n",
        "print(letters[0], letters[2])"
      ]
    },
    {
      "cell_type": "code",
      "source": [
        "#022 문자열 슬라이싱\n",
        "#자동차 번호가 다음과 같을 때 뒤에 4자리만 출력하세요\n",
        "\n",
        "license_plate = \"24가 2210\"\n",
        "a = license_plate[4:]\n",
        "print(a)\n",
        "#print(license_plate[-4:])"
      ],
      "metadata": {
        "colab": {
          "base_uri": "https://localhost:8080/"
        },
        "id": "Rt_m4CVNjj6A",
        "outputId": "8db9aa1c-9f78-4502-817d-f3fb317ba6b7"
      },
      "execution_count": null,
      "outputs": [
        {
          "output_type": "stream",
          "name": "stdout",
          "text": [
            "2210\n"
          ]
        }
      ]
    },
    {
      "cell_type": "code",
      "source": [
        "#023 문자열 인덱싱\n",
        "#아래의 문자열에서 '홀'만 출력하세요\n",
        "\n",
        "string = \"홀짝홀짝홀짝\"\n",
        "\n",
        "print(string[::2]) #맨 마지막 값은 오프셋이고, 해당 숫자 만큼 건너띄면서 계산한다, 만약 -1일 경우 reverse와 같다\n",
        "                   #문자열을 작성하게 되면 각 문자마다 고유의 번호가 매겨지는데 이 번호를 오프셋이라고 한다"
      ],
      "metadata": {
        "colab": {
          "base_uri": "https://localhost:8080/"
        },
        "id": "Fbssm0o1jxok",
        "outputId": "754e73a1-5c3b-4144-f2fd-0234088c9918"
      },
      "execution_count": null,
      "outputs": [
        {
          "output_type": "stream",
          "name": "stdout",
          "text": [
            "홀홀홀\n"
          ]
        }
      ]
    },
    {
      "cell_type": "code",
      "source": [
        "#024 문자열 슬라이싱\n",
        "#문자열을 거꾸로 뒤집어 출력하세요\n",
        "\n",
        "string = \"PYTHON\"\n",
        "print(string[::-1])"
      ],
      "metadata": {
        "colab": {
          "base_uri": "https://localhost:8080/"
        },
        "id": "e1obf5UOkUhY",
        "outputId": "1930be5b-b02e-4e6a-b0c7-0c59dfd9edd6"
      },
      "execution_count": null,
      "outputs": [
        {
          "output_type": "stream",
          "name": "stdout",
          "text": [
            "NOHTYP\n"
          ]
        }
      ]
    },
    {
      "cell_type": "code",
      "source": [
        "#025 문자열 치환\n",
        "#아래의 전화번호에서 하이푼 ('-')을 제거하고 출력하세요\n",
        "\n",
        "phone_number = \"010-1111-2222\"\n",
        "#phone_number1 = phone_number.remove(\"-\") #문자열자료형은 수정 불가, 그래서 replace 함수를 사용\n",
        "phone_number1 = phone_number.replace(\"-\", \" \") #이 때 치환할 문자열은 공백까지 계산된다\n",
        "print(phone_number1)"
      ],
      "metadata": {
        "colab": {
          "base_uri": "https://localhost:8080/"
        },
        "id": "H6BJ3omKnv4u",
        "outputId": "26e32364-c01a-43ed-aa53-63e4f77a6d44"
      },
      "execution_count": null,
      "outputs": [
        {
          "output_type": "stream",
          "name": "stdout",
          "text": [
            "010 1111 2222\n"
          ]
        }
      ]
    },
    {
      "cell_type": "code",
      "source": [
        "#026 문자열 다루기\n",
        "#25번 문제의 전화번호를 아래와 같이 모두 붙여 출력하세요\n",
        "\n",
        "phone_number = \"010-1111-2222\"\n",
        "phone_number1 = phone_number.replace(\"-\",\"\")\n",
        "print(phone_number1)"
      ],
      "metadata": {
        "colab": {
          "base_uri": "https://localhost:8080/"
        },
        "id": "sh97ml6g_ca2",
        "outputId": "fc667a48-9273-4d1d-95fe-30b9f4a668d7"
      },
      "execution_count": null,
      "outputs": [
        {
          "output_type": "stream",
          "name": "stdout",
          "text": [
            "01011112222\n"
          ]
        }
      ]
    },
    {
      "cell_type": "code",
      "source": [
        "#027 문자열 다루기\n",
        "#url에 저장된 웹 페이지 주소에서 도메인을 출력하세요\n",
        "\n",
        "url = \"http://sharebook.kr\"\n",
        "#print(url[17:19])\n",
        "url1 = url.split('.')\n",
        "print(url1)"
      ],
      "metadata": {
        "colab": {
          "base_uri": "https://localhost:8080/"
        },
        "id": "D2t65erQ_1sv",
        "outputId": "b55b87fb-b101-4bcd-f310-64b6acbc7fe3"
      },
      "execution_count": null,
      "outputs": [
        {
          "output_type": "stream",
          "name": "stdout",
          "text": [
            "['http://sharebook', 'kr']\n"
          ]
        }
      ]
    },
    {
      "cell_type": "code",
      "source": [
        "#028 문자열은 immutable\n",
        "#아래 코드의 실행 결과를 예상해보세요\n",
        "\n",
        "lang = 'python'\n",
        "lang[0] = 'P'\n",
        "print(lang)"
      ],
      "metadata": {
        "colab": {
          "base_uri": "https://localhost:8080/",
          "height": 217
        },
        "id": "5g9991AYQkFn",
        "outputId": "84f0ed59-e7c4-48b6-eb91-74e0494fdaf8"
      },
      "execution_count": null,
      "outputs": [
        {
          "output_type": "error",
          "ename": "TypeError",
          "evalue": "ignored",
          "traceback": [
            "\u001b[0;31m---------------------------------------------------------------------------\u001b[0m",
            "\u001b[0;31mTypeError\u001b[0m                                 Traceback (most recent call last)",
            "\u001b[0;32m<ipython-input-3-964d0c2945f6>\u001b[0m in \u001b[0;36m<module>\u001b[0;34m\u001b[0m\n\u001b[1;32m      3\u001b[0m \u001b[0;34m\u001b[0m\u001b[0m\n\u001b[1;32m      4\u001b[0m \u001b[0mlang\u001b[0m \u001b[0;34m=\u001b[0m \u001b[0;34m'python'\u001b[0m\u001b[0;34m\u001b[0m\u001b[0;34m\u001b[0m\u001b[0m\n\u001b[0;32m----> 5\u001b[0;31m \u001b[0mlang\u001b[0m\u001b[0;34m[\u001b[0m\u001b[0;36m0\u001b[0m\u001b[0;34m]\u001b[0m \u001b[0;34m=\u001b[0m \u001b[0;34m'P'\u001b[0m\u001b[0;34m\u001b[0m\u001b[0;34m\u001b[0m\u001b[0m\n\u001b[0m\u001b[1;32m      6\u001b[0m \u001b[0mprint\u001b[0m\u001b[0;34m(\u001b[0m\u001b[0mlang\u001b[0m\u001b[0;34m)\u001b[0m\u001b[0;34m\u001b[0m\u001b[0;34m\u001b[0m\u001b[0m\n",
            "\u001b[0;31mTypeError\u001b[0m: 'str' object does not support item assignment"
          ]
        }
      ]
    },
    {
      "cell_type": "code",
      "source": [
        "#029 replace 메서드\n",
        "#아래 문자열에서 소문자 'a'를 대문자 'A'로 변경하세요\n",
        "\n",
        "string = 'abcdfe2a354a32a'\n",
        "string = string.replace('a','A')\n",
        "print(string)"
      ],
      "metadata": {
        "colab": {
          "base_uri": "https://localhost:8080/"
        },
        "id": "hYWqGigeQ1dO",
        "outputId": "2eeeebaa-1064-4482-fa74-e3cb49d92784"
      },
      "execution_count": null,
      "outputs": [
        {
          "output_type": "stream",
          "name": "stdout",
          "text": [
            "Abcdfe2A354A32A\n"
          ]
        }
      ]
    },
    {
      "cell_type": "code",
      "source": [
        "#030 replace 메서드\n",
        "#아래 코드의 실행 결과를 예상해보세요\n",
        "\n",
        "string = 'abcd'\n",
        "string.replace('b', 'B')\n",
        "print(string)"
      ],
      "metadata": {
        "colab": {
          "base_uri": "https://localhost:8080/"
        },
        "id": "tAB_KjPbRc55",
        "outputId": "1a8025c3-a793-443a-a4dc-3c74b2d5163d"
      },
      "execution_count": null,
      "outputs": [
        {
          "output_type": "stream",
          "name": "stdout",
          "text": [
            "abcd\n"
          ]
        }
      ]
    },
    {
      "cell_type": "code",
      "source": [
        "#031 문자열 합치기\n",
        "#아래 코드의 실행 결과를 예상해보세요\n",
        "\n",
        "a = \"3\"\n",
        "b = \"4\"\n",
        "print(a+b) #문자열에 대한 덧셈은 문자열의 연결을 의미"
      ],
      "metadata": {
        "colab": {
          "base_uri": "https://localhost:8080/"
        },
        "id": "hCgKMVZtSTsB",
        "outputId": "82bae7bf-07bc-49df-a394-26d4e746c38d"
      },
      "execution_count": null,
      "outputs": [
        {
          "output_type": "stream",
          "name": "stdout",
          "text": [
            "34\n"
          ]
        }
      ]
    },
    {
      "cell_type": "code",
      "source": [
        "#032 문자열 곱하기\n",
        "#아래 코드의 실행 결과를 예상해보세요\n",
        "\n",
        "print(\"Hi\" * 3) #문자열에 대한 곱셈은 문자열의 반복을 의미"
      ],
      "metadata": {
        "colab": {
          "base_uri": "https://localhost:8080/"
        },
        "id": "5DzV4VFCSfH9",
        "outputId": "11f0b4ba-34a7-4a2f-c00b-104635251d08"
      },
      "execution_count": null,
      "outputs": [
        {
          "output_type": "stream",
          "name": "stdout",
          "text": [
            "HiHiHi\n"
          ]
        }
      ]
    },
    {
      "cell_type": "code",
      "source": [
        "#033 문자열 곱하기\n",
        "#화면에 '-'를 80개 출력하세요\n",
        "\n",
        "print('-' * 80)"
      ],
      "metadata": {
        "colab": {
          "base_uri": "https://localhost:8080/"
        },
        "id": "Z018hDiQSsyr",
        "outputId": "00c65d39-1293-4b5b-9c2f-c62199927d94"
      },
      "execution_count": null,
      "outputs": [
        {
          "output_type": "stream",
          "name": "stdout",
          "text": [
            "--------------------------------------------------------------------------------\n"
          ]
        }
      ]
    },
    {
      "cell_type": "code",
      "source": [
        "#034 문자열 곱하기\n",
        "#변수에 다음과 같은 문자열이 바인딩되어 있스빈다.\n",
        "\n",
        "t1 = 'python'\n",
        "t2 = 'java'\n",
        "\n",
        "#변수에 문자열 더하기와 문자열 곱하기를 사용해서 아래와 같이 출력하세요\n",
        "#python java python java python java python java\n",
        "\n",
        "print (('python'+' '+'java'+' ') * 3)"
      ],
      "metadata": {
        "colab": {
          "base_uri": "https://localhost:8080/"
        },
        "id": "r1fKsfI3S1bY",
        "outputId": "480b688c-eda7-4013-b7f3-204a0614c589"
      },
      "execution_count": null,
      "outputs": [
        {
          "output_type": "stream",
          "name": "stdout",
          "text": [
            "python java python java python java \n"
          ]
        }
      ]
    },
    {
      "cell_type": "code",
      "source": [
        "#035 문자열 출력\n",
        "#변수에 다음과 같이 문자열과 정수가 바인딩되어 있을 때 % formatting을 사용해서 다음과 같이 출력해보세요.\n",
        "\n",
        "name1 = \"김민수\"\n",
        "age1 = 10\n",
        "name2 = \"이철희\"\n",
        "age2 = 13\n",
        "\n",
        "#이름: 김민수 나이: 10이름: 이철희 나이:13\n",
        "\n",
        "print(\"이름: %s 나이: %d\" % (name1, age1))\n",
        "print(\"이름: %s 나이: %d\" % (name2, age2))"
      ],
      "metadata": {
        "colab": {
          "base_uri": "https://localhost:8080/"
        },
        "id": "QiP3rp5PTWpd",
        "outputId": "cb42d4e1-60c3-4009-ccd0-cfa894a83f04"
      },
      "execution_count": null,
      "outputs": [
        {
          "output_type": "stream",
          "name": "stdout",
          "text": [
            "이름: 김민수 나이: 10\n",
            "이름: 이철희 나이: 13\n"
          ]
        }
      ]
    },
    {
      "cell_type": "code",
      "source": [
        "#036 문자열 출력\n",
        "#문자열의 format() 메서드를 사용해서 035번 문제를 다시 풀어보세요\n",
        "\n",
        "print(\"이름: {} 나이: {}\".format(name1, age1))\n",
        "print(\"이름: {} 나이: {}\".format(name2, age2))"
      ],
      "metadata": {
        "colab": {
          "base_uri": "https://localhost:8080/"
        },
        "id": "yc0tdvUpT1q9",
        "outputId": "f32fecea-b760-471f-f384-317dabdd2147"
      },
      "execution_count": null,
      "outputs": [
        {
          "output_type": "stream",
          "name": "stdout",
          "text": [
            "이름: 김민수 나이: 10\n",
            "이름: 이철희 나이: 13\n"
          ]
        }
      ]
    },
    {
      "cell_type": "code",
      "source": [
        "#037 문자열 출력\n",
        "#파이썬 3.6부터 지원하는 f-string을 사용해서 035번 문제를 다시 풀어보세요\n",
        "#f-string은 문자열 맨 앞에 f를 붙여주고, 중괄호 안에 직접 변수 이름이나 출력하고 싶은 것을 바로 넣으면 된다\n",
        "\n",
        "name1 = \"김민수\"\n",
        "age1 = 10\n",
        "name2 = \"이철희\"\n",
        "age2 = 13\n",
        "\n",
        "result = f'이름: {name1} 나이: {age1}'\n",
        "print(result)\n",
        "result1 = f'이름: {name2} 나이: {age2}'\n",
        "print(result1)"
      ],
      "metadata": {
        "colab": {
          "base_uri": "https://localhost:8080/"
        },
        "id": "sFvjSpEFVzm1",
        "outputId": "21d7c5ca-1ef7-4442-c800-781f720bd47a"
      },
      "execution_count": null,
      "outputs": [
        {
          "output_type": "stream",
          "name": "stdout",
          "text": [
            "이름: 김민수 나이: 10\n",
            "이름: 이철희 나이: 13\n"
          ]
        }
      ]
    },
    {
      "cell_type": "code",
      "source": [
        "#038 컴마 제거하기\n",
        "#삼성전자의 상장주식수가 다음과 같습니다. 컴마를 제거한 후 이를 정수 타입으로 변환해보세요.\n",
        "\n",
        "상장주식수 = \"5,969,782,550\"\n",
        "\n",
        "result = 상장주식수.replace(\",\",\"\") #컴마를 제거하지 않을 경우, 바로 변환되지 않는다\n",
        "inttype = int(result)\n",
        "print(inttype, type(inttype))"
      ],
      "metadata": {
        "colab": {
          "base_uri": "https://localhost:8080/"
        },
        "id": "DIchOOlXWhDb",
        "outputId": "2dda2f77-77e7-4b80-f2d0-53cbd54f1d17"
      },
      "execution_count": null,
      "outputs": [
        {
          "output_type": "stream",
          "name": "stdout",
          "text": [
            "5969782550 <class 'int'>\n"
          ]
        }
      ]
    },
    {
      "cell_type": "code",
      "source": [
        "#039 문자열 슬라이싱\n",
        "#다음과 같은 문자열에서 '2020/03'만 출력하세요\n",
        "\n",
        "분기 = \"2020/03(E) (IFRS연결)\"\n",
        "result = 분기[:7]\n",
        "print(result)"
      ],
      "metadata": {
        "colab": {
          "base_uri": "https://localhost:8080/"
        },
        "id": "AJAiQmlyXSg1",
        "outputId": "4330f78e-f61b-4f5f-81e6-ff0b755bf5d6"
      },
      "execution_count": null,
      "outputs": [
        {
          "output_type": "stream",
          "name": "stdout",
          "text": [
            "2020/03\n"
          ]
        }
      ]
    },
    {
      "cell_type": "code",
      "source": [
        "#040 strip 메서드\n",
        "#문자열의 좌우의 공백이 있을 때 이를 제거해보세요\n",
        "\n",
        "#strip([char]): 인자로 전달 된 문자를 strip의 왼쪽과 오른쪽에서 제거\n",
        "#lstrip([char]): 인자로 전달 된 문자를 strip의 왼쪽에서 제거\n",
        "#rstrip([char]): 인자로 전달 된 문자를 strip의 오른쪽에서 제거\n",
        "#strip(): 전달 된 인자가 없을 땐 그냥 공백 제거\n",
        "\n",
        "data = \"   삼성전자   \"\n",
        "result = data.strip()\n",
        "print(result)"
      ],
      "metadata": {
        "colab": {
          "base_uri": "https://localhost:8080/"
        },
        "id": "NEQlhLY5X0Xw",
        "outputId": "ad19c83b-2733-462d-81af-3e7654ff62e9"
      },
      "execution_count": null,
      "outputs": [
        {
          "output_type": "stream",
          "name": "stdout",
          "text": [
            "삼성전자\n"
          ]
        }
      ]
    }
  ]
}