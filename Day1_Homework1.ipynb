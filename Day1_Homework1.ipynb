{
  "nbformat": 4,
  "nbformat_minor": 0,
  "metadata": {
    "colab": {
      "provenance": [],
      "authorship_tag": "ABX9TyOwgi2Vyp+30aZSGDJwA99O",
      "include_colab_link": true
    },
    "kernelspec": {
      "name": "python3",
      "display_name": "Python 3"
    },
    "language_info": {
      "name": "python"
    }
  },
  "cells": [
    {
      "cell_type": "markdown",
      "metadata": {
        "id": "view-in-github",
        "colab_type": "text"
      },
      "source": [
        "<a href=\"https://colab.research.google.com/github/yonguncho/pythonclass/blob/main/Day1_Homework1.ipynb\" target=\"_parent\"><img src=\"https://colab.research.google.com/assets/colab-badge.svg\" alt=\"Open In Colab\"/></a>"
      ]
    },
    {
      "cell_type": "code",
      "execution_count": null,
      "metadata": {
        "colab": {
          "base_uri": "https://localhost:8080/"
        },
        "id": "i0dMBEPl0ql9",
        "outputId": "34aa2895-2a05-46e7-f986-58a3f4a43df1"
      },
      "outputs": [
        {
          "output_type": "stream",
          "name": "stdout",
          "text": [
            "Hello World\n"
          ]
        }
      ],
      "source": [
        "#001 print 기초\n",
        "\n",
        "print(\"Hello World\")\n"
      ]
    },
    {
      "cell_type": "code",
      "source": [
        "#002 print 기초\n",
        "\n",
        "print(\"Mary's cosmetics\")"
      ],
      "metadata": {
        "colab": {
          "base_uri": "https://localhost:8080/"
        },
        "id": "IGcL6UVo1J5Y",
        "outputId": "28fc1362-20b0-4096-da0c-bb818425a763"
      },
      "execution_count": null,
      "outputs": [
        {
          "output_type": "stream",
          "name": "stdout",
          "text": [
            "Mary's cosmetics\n"
          ]
        }
      ]
    },
    {
      "cell_type": "code",
      "source": [
        "#003 print 기초\n",
        "\n",
        "print('신씨가 소리질렀다.', '\"도둑이야\".')"
      ],
      "metadata": {
        "colab": {
          "base_uri": "https://localhost:8080/"
        },
        "id": "kAk7oFs31Sv3",
        "outputId": "bbb38253-e25d-4143-a156-99bf9058e623"
      },
      "execution_count": null,
      "outputs": [
        {
          "output_type": "stream",
          "name": "stdout",
          "text": [
            "신씨가 소리질렀다. \"도둑이야\".\n"
          ]
        }
      ]
    },
    {
      "cell_type": "code",
      "source": [
        "#004 print 기초\n",
        "\n",
        "print('\"C\\Windows\"')"
      ],
      "metadata": {
        "colab": {
          "base_uri": "https://localhost:8080/"
        },
        "id": "IIycD1Sj2bEY",
        "outputId": "2d2eb185-f5f3-4993-847b-6bef54722147"
      },
      "execution_count": null,
      "outputs": [
        {
          "output_type": "stream",
          "name": "stdout",
          "text": [
            "\"C\\Windows\"\n"
          ]
        }
      ]
    },
    {
      "cell_type": "code",
      "source": [
        "#005 print 탭과 줄바꿈\n",
        "\n",
        "print(\"안녕하세요.\\n만나서\\t\\t반갑습니다.\") \n",
        "# \\t 는 띄어쓰기\n",
        "# \\n 은 줄바꿈"
      ],
      "metadata": {
        "colab": {
          "base_uri": "https://localhost:8080/"
        },
        "id": "-1Hgp_Co2gNo",
        "outputId": "d47bcbdd-4984-4256-b82c-02720034e237"
      },
      "execution_count": null,
      "outputs": [
        {
          "output_type": "stream",
          "name": "stdout",
          "text": [
            "안녕하세요.\n",
            "만나서\t\t반갑습니다.\n"
          ]
        }
      ]
    },
    {
      "cell_type": "code",
      "source": [
        "#006 print 여러 데이터 출력\n",
        "\n",
        "print(\"오늘은\",\"일요일\")"
      ],
      "metadata": {
        "colab": {
          "base_uri": "https://localhost:8080/"
        },
        "id": "ARcQQIQ22sq_",
        "outputId": "5da603a3-bf60-4c73-debc-2f28d725194d"
      },
      "execution_count": null,
      "outputs": [
        {
          "output_type": "stream",
          "name": "stdout",
          "text": [
            "오늘은 일요일\n"
          ]
        }
      ]
    },
    {
      "cell_type": "code",
      "source": [
        "#007 print 기초\n",
        "\n",
        "print(\"naver\",\"kakao\",\"sk\",\"samsung\", sep=\";\")"
      ],
      "metadata": {
        "colab": {
          "base_uri": "https://localhost:8080/"
        },
        "id": "ytvBTK3q3BRQ",
        "outputId": "b69d958c-4288-4ff8-ba81-ea56bd45d01f"
      },
      "execution_count": null,
      "outputs": [
        {
          "output_type": "stream",
          "name": "stdout",
          "text": [
            "naver;kakao;sk;samsung\n"
          ]
        }
      ]
    },
    {
      "cell_type": "code",
      "source": [
        "#008 print 기초\n",
        "\n",
        "print(\"naver\",\"kakao\",\"sk\",\"samsung\", sep=\"/\")"
      ],
      "metadata": {
        "colab": {
          "base_uri": "https://localhost:8080/"
        },
        "id": "jA7glp7t3x5_",
        "outputId": "6116e1f0-c086-4cbf-dd5d-1b060d9581d5"
      },
      "execution_count": null,
      "outputs": [
        {
          "output_type": "stream",
          "name": "stdout",
          "text": [
            "naver/kakao/sk/samsung\n"
          ]
        }
      ]
    },
    {
      "cell_type": "code",
      "source": [
        "#009 print 줄바꿈\n",
        "\n",
        "print(\"first\", end =\" \");print(\"second\")"
      ],
      "metadata": {
        "id": "YfaoM2NH4OsF",
        "colab": {
          "base_uri": "https://localhost:8080/"
        },
        "outputId": "024317a8-f5e0-4d45-a9c7-23d6ef83326c"
      },
      "execution_count": null,
      "outputs": [
        {
          "output_type": "stream",
          "name": "stdout",
          "text": [
            "first second\n"
          ]
        }
      ]
    },
    {
      "cell_type": "code",
      "source": [
        "#010 연산 결과 출력\n",
        "\n",
        "a = 5\n",
        "b = 3\n",
        "print (a/b)"
      ],
      "metadata": {
        "colab": {
          "base_uri": "https://localhost:8080/"
        },
        "id": "R5wOzJkhFMXi",
        "outputId": "57b9590b-a126-4a1b-f4df-e6833a0ab1d8"
      },
      "execution_count": null,
      "outputs": [
        {
          "output_type": "stream",
          "name": "stdout",
          "text": [
            "1.6666666666666667\n"
          ]
        }
      ]
    },
    {
      "cell_type": "code",
      "source": [
        "#011 변수 사용하기\n",
        "\n",
        "삼성전자 = 50000\n",
        "print(\"총 평가금액은\",삼성전자*10,\"입니다\")\n"
      ],
      "metadata": {
        "colab": {
          "base_uri": "https://localhost:8080/"
        },
        "id": "YGqYKlmTFnSm",
        "outputId": "a2904f83-9abf-48e1-a0db-841a73b86f13"
      },
      "execution_count": null,
      "outputs": [
        {
          "output_type": "stream",
          "name": "stdout",
          "text": [
            "총 평가금액은 500000 입니다\n"
          ]
        }
      ]
    },
    {
      "cell_type": "code",
      "source": [
        "#012 변수 사용하기\n",
        "\n",
        "시가총액 = 2980000000000\n",
        "현재가 = 50000\n",
        "PER = 15.79\n",
        "print (시가총액)\n",
        "print (현재가)\n",
        "print (PER)\n"
      ],
      "metadata": {
        "id": "kxx6Xr_jGjaJ",
        "colab": {
          "base_uri": "https://localhost:8080/"
        },
        "outputId": "b57f0a69-2e08-4f65-f0ec-4ce9befa3041"
      },
      "execution_count": null,
      "outputs": [
        {
          "output_type": "stream",
          "name": "stdout",
          "text": [
            "2980000000000\n",
            "50000\n",
            "15.79\n"
          ]
        }
      ]
    },
    {
      "cell_type": "code",
      "source": [
        "#013 문자열 출력\n",
        "\n",
        "s = \"hello\"\n",
        "t = \"python\"\n",
        "\n",
        "print(s+\"!\", t)"
      ],
      "metadata": {
        "colab": {
          "base_uri": "https://localhost:8080/"
        },
        "id": "oU98ZMyP4Tn7",
        "outputId": "9915ddf6-09d1-4d20-fe69-fff49a2684a0"
      },
      "execution_count": null,
      "outputs": [
        {
          "output_type": "stream",
          "name": "stdout",
          "text": [
            "hello! python\n"
          ]
        }
      ]
    },
    {
      "cell_type": "code",
      "source": [
        "#014 파이썬을 이용한 값 계산\n",
        "\n",
        "print (2+2*3)"
      ],
      "metadata": {
        "colab": {
          "base_uri": "https://localhost:8080/"
        },
        "id": "R_h2T6865Us1",
        "outputId": "f6431a1d-71ca-4107-acd0-c249647fb537"
      },
      "execution_count": null,
      "outputs": [
        {
          "output_type": "stream",
          "name": "stdout",
          "text": [
            "8\n"
          ]
        }
      ]
    },
    {
      "cell_type": "code",
      "source": [
        "#015 type 함수\n",
        "a = 128\n",
        "print(type(a))\n",
        "\n",
        "a = \"123\"\n",
        "print (type(a))\n"
      ],
      "metadata": {
        "colab": {
          "base_uri": "https://localhost:8080/"
        },
        "id": "wWWzfcrr5okY",
        "outputId": "ab18aa45-db3c-4727-aa19-bcb6299f3855"
      },
      "execution_count": null,
      "outputs": [
        {
          "output_type": "stream",
          "name": "stdout",
          "text": [
            "<class 'int'>\n",
            "<class 'str'>\n"
          ]
        }
      ]
    },
    {
      "cell_type": "code",
      "source": [
        "#016 문자열을 정수로 변환\n",
        "\n",
        "num_str = \"720\"\n",
        "print (num_str, type(num_str))\n",
        "\n",
        "num_int = int(num_str)\n",
        "print(num_int+1, type(num_int))\n"
      ],
      "metadata": {
        "colab": {
          "base_uri": "https://localhost:8080/"
        },
        "id": "xEQZXszE5yQf",
        "outputId": "5d52ae69-28d5-4e53-d3e6-5a224dde32c2"
      },
      "execution_count": null,
      "outputs": [
        {
          "output_type": "stream",
          "name": "stdout",
          "text": [
            "720 <class 'str'>\n",
            "721 <class 'int'>\n"
          ]
        }
      ]
    },
    {
      "cell_type": "code",
      "source": [
        "#017 정수를 문자열 100으로 변환\n",
        "\n",
        "a = 100\n",
        "print (a, type(a))\n",
        "\n",
        "c = str (a)\n",
        "print (c, type(c))"
      ],
      "metadata": {
        "colab": {
          "base_uri": "https://localhost:8080/"
        },
        "id": "VYV4cjSW6AC3",
        "outputId": "4a4bacec-1fcb-4972-c2a1-f21a3a377f73"
      },
      "execution_count": null,
      "outputs": [
        {
          "output_type": "stream",
          "name": "stdout",
          "text": [
            "100 <class 'int'>\n",
            "100 <class 'str'>\n"
          ]
        }
      ]
    },
    {
      "cell_type": "code",
      "source": [
        "#018 문자열을 실수로 변환\n",
        "\n",
        "a = \"15.79\"\n",
        "print(a, type(a))\n",
        "\n",
        "f = float (a)\n",
        "print (f, type(f))"
      ],
      "metadata": {
        "colab": {
          "base_uri": "https://localhost:8080/"
        },
        "id": "fHd04yc77Ise",
        "outputId": "42495701-5d4e-494b-ea2c-6f8a442aaf35"
      },
      "execution_count": null,
      "outputs": [
        {
          "output_type": "stream",
          "name": "stdout",
          "text": [
            "15.79 <class 'str'>\n",
            "15.79 <class 'float'>\n"
          ]
        }
      ]
    },
    {
      "cell_type": "code",
      "source": [
        "#019 문자열을 정수로 변환\n",
        "\n",
        "year =  \"2020\"\n",
        "print (year, type(year))\n",
        "\n",
        "year_i = int(year)\n",
        "print (year_i, year_i+1, year_i+2, type(year_i))\n"
      ],
      "metadata": {
        "colab": {
          "base_uri": "https://localhost:8080/"
        },
        "id": "-KxJNe_NDioO",
        "outputId": "9940b062-4fdb-4927-f422-29d2aa2110c6"
      },
      "execution_count": null,
      "outputs": [
        {
          "output_type": "stream",
          "name": "stdout",
          "text": [
            "2020 <class 'str'>\n",
            "2020 2021 2022 <class 'int'>\n"
          ]
        }
      ]
    },
    {
      "cell_type": "code",
      "source": [
        "#020 파이썬 계산\n",
        "\n",
        "월 = 48584\n",
        "무이자개월수 = 36\n",
        "print (\"총 금액은\", 월*무이자개월수, \"입니다\")"
      ],
      "metadata": {
        "colab": {
          "base_uri": "https://localhost:8080/"
        },
        "id": "s0SQz9-QD0Qe",
        "outputId": "93d1d6fc-9cd8-406b-cfc4-bf6d4aaeff57"
      },
      "execution_count": null,
      "outputs": [
        {
          "output_type": "stream",
          "name": "stdout",
          "text": [
            "총 금액은 1749024 입니다\n"
          ]
        }
      ]
    }
  ]
}