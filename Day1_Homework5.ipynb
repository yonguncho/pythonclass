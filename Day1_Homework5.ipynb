{
  "nbformat": 4,
  "nbformat_minor": 0,
  "metadata": {
    "colab": {
      "provenance": [],
      "authorship_tag": "ABX9TyPF+rGHkaqEd4yZ5LUvtqOj",
      "include_colab_link": true
    },
    "kernelspec": {
      "name": "python3",
      "display_name": "Python 3"
    },
    "language_info": {
      "name": "python"
    }
  },
  "cells": [
    {
      "cell_type": "markdown",
      "metadata": {
        "id": "view-in-github",
        "colab_type": "text"
      },
      "source": [
        "<a href=\"https://colab.research.google.com/github/yonguncho/pythonclass/blob/main/Day1_Homework5.ipynb\" target=\"_parent\"><img src=\"https://colab.research.google.com/assets/colab-badge.svg\" alt=\"Open In Colab\"/></a>"
      ]
    },
    {
      "cell_type": "code",
      "execution_count": 3,
      "metadata": {
        "colab": {
          "base_uri": "https://localhost:8080/"
        },
        "id": "u1gPBjQ7Lpu8",
        "outputId": "ef6bd441-d3d1-4456-ed56-1b93725b5be7"
      },
      "outputs": [
        {
          "output_type": "stream",
          "name": "stdout",
          "text": [
            "First Name: Yongun\n",
            "Hello Yongun\n"
          ]
        }
      ],
      "source": [
        "#001\n",
        "#Ask for the user's first name and display the output message\n",
        "\n",
        "print(\"Hello\", input(\"First Name: \"))"
      ]
    },
    {
      "cell_type": "code",
      "source": [
        "#002\n",
        "#Ask for the user's first name and then ask for their surname and display the output message\n",
        "\n",
        "a = input(\"First Name: \")\n",
        "b = input(\"Surname: \")\n",
        "\n",
        "print(\"Hello\", a, b)"
      ],
      "metadata": {
        "colab": {
          "base_uri": "https://localhost:8080/"
        },
        "id": "b23xE8DuMgTO",
        "outputId": "3c6fe4a3-aea7-4f9d-9493-8ac1a8afaec5"
      },
      "execution_count": 13,
      "outputs": [
        {
          "output_type": "stream",
          "name": "stdout",
          "text": [
            "First Name: YONGUN\n",
            "Surname: CHO\n",
            "Hello YONGUN CHO\n"
          ]
        }
      ]
    },
    {
      "cell_type": "code",
      "source": [
        "#003\n",
        "#Write code that will display the joke \"What do you call a bear with no teeth?\" and on the next line display the answer \"A gummy bear!\" Try to create it using only one line of code\n",
        "\n",
        "print(\"what do you call a bear with no teeth \\n A gummy bear!\")"
      ],
      "metadata": {
        "colab": {
          "base_uri": "https://localhost:8080/"
        },
        "id": "JnURBXHCM0A9",
        "outputId": "6625ea0e-11da-4ca7-a980-47126127ab9c"
      },
      "execution_count": 21,
      "outputs": [
        {
          "output_type": "stream",
          "name": "stdout",
          "text": [
            "what do you call a bear with no teeth \n",
            " A gummy bear!\n"
          ]
        }
      ]
    },
    {
      "cell_type": "code",
      "source": [
        "#004\n",
        "#Ask the user to enter two number. add them together and display the answer as The Total is [Answer]\n",
        "\n",
        "a = int(input(\"number1: \"))\n",
        "b = int(input(\"number2: \"))\n",
        "\n",
        "c = a + b\n",
        "\n",
        "print(\"The Total is\", c)\n",
        "print((type(c)))\n"
      ],
      "metadata": {
        "colab": {
          "base_uri": "https://localhost:8080/"
        },
        "id": "B4zXJTHdhXfx",
        "outputId": "98dede2f-d10e-4d85-cfee-abc459d3efe8"
      },
      "execution_count": 27,
      "outputs": [
        {
          "output_type": "stream",
          "name": "stdout",
          "text": [
            "number1: 2\n",
            "number2: 3\n",
            "The Total is 5\n",
            "<class 'int'>\n"
          ]
        }
      ]
    },
    {
      "cell_type": "code",
      "source": [
        "#005\n",
        "#Ask the user to enter three numbers. add together the first two number and then multiply this total by the third.\n",
        "#display the answer as The answer is [answer]\n",
        "\n",
        "a = int(input(\"number: \"))\n",
        "b = int(input(\"number: \"))\n",
        "c = int(input(\"number: \"))\n",
        "\n",
        "d = (a+b) * c\n",
        "\n",
        "print(\"The answer is\", d)"
      ],
      "metadata": {
        "colab": {
          "base_uri": "https://localhost:8080/"
        },
        "id": "ImDLTZm4ncdC",
        "outputId": "f404b5cc-2501-43f3-a683-0cd734b9d3d5"
      },
      "execution_count": 31,
      "outputs": [
        {
          "output_type": "stream",
          "name": "stdout",
          "text": [
            "number: 3\n",
            "number: 3\n",
            "number: 3\n",
            "The answer is 18\n"
          ]
        }
      ]
    },
    {
      "cell_type": "code",
      "source": [
        "#006 \n",
        "#Ask how many slices of pizza the user started with and ask how many slices they have eaten.\n",
        "#work out how many slices they have left and display the answer in a user-freidnly format\n",
        "\n",
        "a = int(input(\"how many slices of pizza did you have?\"))\n",
        "b = int(input(\"how many slices have you eaten? \"))\n",
        "\n",
        "rest = a - b\n",
        "\n",
        "print(\"the answer is\", rest)\n"
      ],
      "metadata": {
        "colab": {
          "base_uri": "https://localhost:8080/"
        },
        "id": "Aj9UFf3e0rHP",
        "outputId": "9aaa90ba-f357-47eb-96be-448d5ed37d85"
      },
      "execution_count": 34,
      "outputs": [
        {
          "output_type": "stream",
          "name": "stdout",
          "text": [
            "how many slices of pizza did you have?4\n",
            "how many slices have you eaten? 2\n",
            "the answer is 2\n"
          ]
        }
      ]
    },
    {
      "cell_type": "code",
      "source": [
        "#007 \n",
        "#ask the user for their name and their age. add 1 to their age and display the output [Name] next birthday you will be [new age].\n",
        "\n",
        "a = input(\"what is your name: \")\n",
        "b = int(input(\"what is your age: \"))\n",
        "c = b+1\n",
        "\n",
        "print(a, \"next birthday you will be\", c)"
      ],
      "metadata": {
        "colab": {
          "base_uri": "https://localhost:8080/"
        },
        "id": "fEuHomC72Thd",
        "outputId": "bf417f6b-eb97-4005-b6b1-61937a1a79c9"
      },
      "execution_count": 37,
      "outputs": [
        {
          "output_type": "stream",
          "name": "stdout",
          "text": [
            "what is your name: BOB\n",
            "what is your age: 34\n",
            "BOB next birthday you will be 35\n"
          ]
        }
      ]
    },
    {
      "cell_type": "code",
      "source": [
        "#008\n",
        "#ask for the total price of the bill, then ask how many diners there are. divide the total bill by the number of diners and show how much each person must pay.\n",
        "\n",
        "a = int(input(\"total price of the bill: \"))\n",
        "b = int(input(\"how many diners there are: \"))\n",
        "\n",
        "c = a / b\n",
        "\n",
        "print(\"how much each person must pay:\", c)"
      ],
      "metadata": {
        "colab": {
          "base_uri": "https://localhost:8080/"
        },
        "id": "XlCONvm_3r4S",
        "outputId": "c4a6fba0-0cd2-44bc-dbf5-a7ad27dca02e"
      },
      "execution_count": 40,
      "outputs": [
        {
          "output_type": "stream",
          "name": "stdout",
          "text": [
            "total price of the bill: 10000\n",
            "how many diners there are: 10\n",
            "how much each person must pay: 1000.0\n"
          ]
        }
      ]
    },
    {
      "cell_type": "code",
      "source": [
        "#009\n",
        "#write a program that will ask for a number of days and then will show how many hours, minutes and seconds are in that number of days.\n",
        "\n",
        "a = int(input(\"input a number of days: \"))\n",
        "b = a * 60\n",
        "c = b * 60\n",
        "\n",
        "print(\"hours of the days\", b)\n",
        "print(\"seconds of the days\", c)"
      ],
      "metadata": {
        "colab": {
          "base_uri": "https://localhost:8080/"
        },
        "id": "JINbbbT55_Fu",
        "outputId": "90d51f0e-8888-411f-ef8b-35a267792a7f"
      },
      "execution_count": 42,
      "outputs": [
        {
          "output_type": "stream",
          "name": "stdout",
          "text": [
            "input a number of days: 1\n",
            "hours of the days 60\n",
            "seconds of the days 3600\n"
          ]
        }
      ]
    },
    {
      "cell_type": "code",
      "source": [
        "#010\n",
        "#there are 2,204 pounds in a kilogram. ask the user to enter a weight in kilograms and convert it to pounds.\n",
        "\n",
        "a = input(\"weight: \")\n",
        "b = int(a)*2204\n",
        "\n",
        "print(\"the result is\", b, \"pounds\")"
      ],
      "metadata": {
        "colab": {
          "base_uri": "https://localhost:8080/"
        },
        "id": "ekCfX4Z66yMg",
        "outputId": "8ea2c46a-7b7c-4a67-a0c5-6557934336de"
      },
      "execution_count": 50,
      "outputs": [
        {
          "output_type": "stream",
          "name": "stdout",
          "text": [
            "weight: 10\n",
            "the result is 22040 pounds\n"
          ]
        }
      ]
    },
    {
      "cell_type": "code",
      "source": [
        "#011\n",
        "#task the user to enter a number over 100 and then enter a number under 10 and tell them how many times the smaller number goes into the larger number in a user-friendly format.\n",
        "\n",
        "a = int(input(\"Enter a number over 100: \"))\n",
        "b = int(input(\"Enter a number under 10: \"))\n",
        "\n",
        "c = a / b\n",
        "d = a // b     # 뒤 소수점 없이 몫만 출력\n",
        "\n",
        "print(a, \"is\", c, \"times larger than\", b)\n",
        "print(a, \"is\", d, \"times larger than\", b)"
      ],
      "metadata": {
        "colab": {
          "base_uri": "https://localhost:8080/"
        },
        "id": "5vi4MeKd9CCp",
        "outputId": "2f1d3142-6927-4d47-af23-2ca1ace4d865"
      },
      "execution_count": 52,
      "outputs": [
        {
          "output_type": "stream",
          "name": "stdout",
          "text": [
            "Enter a number over 100: 1000\n",
            "Enter a number under 10: 3\n",
            "1000 is 333.3333333333333 times larger than 3\n",
            "1000 is 333 times larger than 3\n"
          ]
        }
      ]
    }
  ]
}